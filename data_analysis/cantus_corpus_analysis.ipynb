{
  "cells": [
    {
      "cell_type": "markdown",
      "source": [
        "# Cantus Corpus Analysis\n"
      ],
      "metadata": {
        "id": "0gk6D3ST1rXQ"
      }
    },
    {
      "cell_type": "markdown",
      "source": [
        "## Antiphons"
      ],
      "metadata": {
        "id": "pgFAQVsUKSuK"
      }
    },
    {
      "cell_type": "code",
      "source": [
        "from src.utils.loader import prepare_dataset\n",
        "from src.utils.data_analyzis import analyze_chants\n",
        "X, y = prepare_dataset()\n",
        "analyze_chants(X, y)"
      ],
      "metadata": {
        "colab": {
          "base_uri": "https://localhost:8080/"
        },
        "id": "s211BWps1pi-",
        "outputId": "5225f577-b2cf-4d15-d08f-aa1e20a3f1aa"
      },
      "execution_count": 2,
      "outputs": [
        {
          "output_type": "stream",
          "name": "stdout",
          "text": [
            "-------------------------------- Dataset Analyzis --------------------------------\n",
            "\t Number of chants: 13865\n",
            "\t Average chant length: 59.51265777136675\n",
            "\t Maximal chant length: 683\n",
            "\t Minimal chant length: 3\n",
            "\t Mode distribution {'8': 3933, '6': 530, '2': 1005, '1': 3406, '3': 950, '4': 1372, '7': 2137, '5': 532}\n",
            "----------------------------------------------------------------------------------\n"
          ]
        }
      ]
    },
    {
      "cell_type": "markdown",
      "source": [
        "## Antiphons without differentia\n"
      ],
      "metadata": {
        "id": "S_eFFvHZSA68"
      }
    },
    {
      "cell_type": "code",
      "source": [
        "from src.utils.loader import prepare_dataset\n",
        "from src.utils.data_analyzis import analyze_chants\n",
        "X, y = prepare_dataset()\n",
        "analyze_chants(X, y)"
      ],
      "metadata": {
        "colab": {
          "base_uri": "https://localhost:8080/"
        },
        "id": "YePHxdCbSDni",
        "outputId": "fd123c36-afaf-48ef-bb6a-f851967b0d07"
      },
      "execution_count": 3,
      "outputs": [
        {
          "output_type": "stream",
          "name": "stdout",
          "text": [
            "-------------------------------- Dataset Analyzis --------------------------------\n",
            "\t Number of chants: 13551\n",
            "\t Average chant length: 53.97254815142794\n",
            "\t Maximal chant length: 676\n",
            "\t Minimal chant length: 3\n",
            "\t Mode distribution {'8': 3832, '6': 513, '2': 979, '1': 3348, '3': 939, '4': 1327, '7': 2091, '5': 522}\n",
            "----------------------------------------------------------------------------------\n"
          ]
        }
      ]
    },
    {
      "cell_type": "markdown",
      "source": [
        "## Responsories"
      ],
      "metadata": {
        "id": "tq40Dkpya7HV"
      }
    },
    {
      "cell_type": "code",
      "source": [
        "from src.utils.loader import prepare_dataset\n",
        "from src.utils.data_analyzis import analyze_chants\n",
        "X, y = prepare_dataset()\n",
        "analyze_chants(X, y)"
      ],
      "metadata": {
        "colab": {
          "base_uri": "https://localhost:8080/"
        },
        "id": "qHaShwj7a8ue",
        "outputId": "4ea865ca-45db-4ce3-ebb5-04e9e6c40c90"
      },
      "execution_count": 4,
      "outputs": [
        {
          "output_type": "stream",
          "name": "stdout",
          "text": [
            "-------------------------------- Dataset Analyzis --------------------------------\n",
            "\t Number of chants: 7031\n",
            "\t Average chant length: 137.51543165979234\n",
            "\t Maximal chant length: 364\n",
            "\t Minimal chant length: 5\n",
            "\t Mode distribution {'8': 1472, '2': 904, '7': 1307, '1': 1258, '6': 227, '5': 443, '3': 679, '4': 741}\n",
            "----------------------------------------------------------------------------------\n"
          ]
        }
      ]
    },
    {
      "cell_type": "markdown",
      "source": [
        "# Obsolete CantusCorpus analysis"
      ],
      "metadata": {
        "id": "UMPCBP2b1KDG"
      }
    },
    {
      "cell_type": "code",
      "source": [
        "!pip install music21"
      ],
      "metadata": {
        "colab": {
          "base_uri": "https://localhost:8080/"
        },
        "id": "Hk3LHRMOb8vq",
        "outputId": "fdfd0193-0ac4-4d64-eb59-061527977afc"
      },
      "execution_count": null,
      "outputs": [
        {
          "output_type": "stream",
          "name": "stdout",
          "text": [
            "Looking in indexes: https://pypi.org/simple, https://us-python.pkg.dev/colab-wheels/public/simple/\n",
            "Requirement already satisfied: music21 in /usr/local/lib/python3.7/dist-packages (5.5.0)\n"
          ]
        }
      ]
    },
    {
      "cell_type": "code",
      "source": [
        "from music21 import *\n",
        "import os\n",
        "import pandas as pd\n",
        "import numpy as np"
      ],
      "metadata": {
        "id": "4KLWil1tcVPK"
      },
      "execution_count": null,
      "outputs": []
    },
    {
      "cell_type": "code",
      "source": [
        "DATASET_DIR = \"./dataset/csv\"\n",
        "CSV_FILE = \"chant.csv\""
      ],
      "metadata": {
        "id": "JLfEJ11dhSf9"
      },
      "execution_count": null,
      "outputs": []
    },
    {
      "cell_type": "code",
      "source": [
        "def load_chants(dataset_dir: str = DATASET_DIR, csv_file: str = CSV_FILE):\n",
        "    chants = pd.read_csv(os.path.join(dataset_dir, csv_file), index_col='id')\n",
        "    return chants\n",
        "\n"
      ],
      "metadata": {
        "id": "9Ck21lzjjJpP"
      },
      "execution_count": null,
      "outputs": []
    },
    {
      "cell_type": "code",
      "source": [
        "chants = load_chants()"
      ],
      "metadata": {
        "colab": {
          "base_uri": "https://localhost:8080/"
        },
        "id": "vi5nscuNjVgn",
        "outputId": "83e36637-0cd1-4d8c-c10f-754e6aa77f5c"
      },
      "execution_count": null,
      "outputs": [
        {
          "output_type": "stream",
          "name": "stderr",
          "text": [
            "/usr/local/lib/python3.7/dist-packages/ipykernel_launcher.py:1: DtypeWarning: Columns (16) have mixed types.Specify dtype option on import or set low_memory=False.\n",
            "  \"\"\"Entry point for launching an IPython kernel.\n"
          ]
        }
      ]
    },
    {
      "cell_type": "code",
      "source": [
        "def get_unique_count(chants, column: str = 'id'):\n",
        "  if column == 'id':\n",
        "    return len(chants)\n",
        "  else:\n",
        "    return len(chants[column].unique().tolist())\n",
        "\n",
        "def get_value_frequencies(chants, column: str = \"incipit\", normalize: bool = True, head: any = None):\n",
        "  if head == None:\n",
        "    return chants[column].value_counts(normalize = normalize)\n",
        "  else:\n",
        "    return chants[column].value_counts(normalize = normalize).head(head)\n",
        "\n",
        "def get_counts_of_nans(chants, column: str = 'full_text', min_length: int = 10):\n",
        "  nan_count = 0\n",
        "  rest_count = 0\n",
        "  for chant_value in chants[column]:\n",
        "    if (type(chant_value) is float and np.isnan(chant_value)) or ((type(chant_value) is str) and len(chant_value) < min_length):\n",
        "      nan_count += 1\n",
        "    else:\n",
        "      rest_count += 1\n",
        "  return nan_count, rest_count\n",
        "    \n",
        "def get_length_statistics(chants, column: str = 'full_text', min_length: int = 10):\n",
        "  lengths = []\n",
        "  for chant_value in chants[column]:\n",
        "    if (not (type(chant_value) is float and np.isnan(chant_value))) and ((type(chant_value) is str) and len(chant_value) >= min_length):\n",
        "      lengths.append(len(chant_value))\n",
        "  average = np.average(lengths)\n",
        "  max = np.max(lengths)\n",
        "  min = np.min(lengths)\n",
        "  return average, max, min\n"
      ],
      "metadata": {
        "id": "mGP-SIXykliq"
      },
      "execution_count": null,
      "outputs": []
    },
    {
      "cell_type": "code",
      "source": [
        "def print_basic_analyzis(chants, column, head, min_length_not_nan):\n",
        "  print(\"------------------------------------ Basic Data Analyzis ------------------------------------\")\n",
        "  unique_counts = get_unique_count(chants, column)\n",
        "  nan_count, rest_count = get_counts_of_nans(chants, column, min_length_not_nan)\n",
        "  value_frequencies = get_value_frequencies(chants, column, True, head)\n",
        "  print(\"   Unique values:    {}\".format(unique_counts))\n",
        "  print()\n",
        "  print(\"   Empty values:     {}\".format(nan_count))\n",
        "  print(\"   Filled values:    {}\".format(rest_count))\n",
        "  print()\n",
        "  print(\"   Value frequencies of first {} values:\".format(head))\n",
        "  print(value_frequencies)\n",
        "  print(\"---------------------------------------------------------------------------------------------\")\n",
        "\n",
        "\n",
        "def print_extended_analyzis(chants, column, min_length_not_nan):\n",
        "  print(\"---------------------------------- Extended Data Analyzis -----------------------------------\")\n",
        "  average, max, min = get_length_statistics(chants, column = column, min_length = min_length_not_nan)\n",
        "  print(\"   Average value length:     {}\".format(average))\n",
        "  print(\"   Maximal value length:     {}\".format(max))\n",
        "  print(\"   Minimal value length:     {}\".format(min))\n",
        "  print(\"---------------------------------------------------------------------------------------------\")"
      ],
      "metadata": {
        "id": "-AOmFt675GRg"
      },
      "execution_count": null,
      "outputs": []
    },
    {
      "cell_type": "markdown",
      "source": [
        "## ID - Basic Dataset Information"
      ],
      "metadata": {
        "id": "kGIeCgLr4_SM"
      }
    },
    {
      "cell_type": "code",
      "source": [
        "column_id = 'id'\n",
        "print(\"Total number of chants: {}\".format(get_unique_count(chants, column_id)))"
      ],
      "metadata": {
        "colab": {
          "base_uri": "https://localhost:8080/"
        },
        "id": "4Yv8VEnm5IYY",
        "outputId": "e33ef752-3c82-4203-9da2-f27d55a69c4d"
      },
      "execution_count": null,
      "outputs": [
        {
          "output_type": "stream",
          "name": "stdout",
          "text": [
            "Total number of chants: 497071\n"
          ]
        }
      ]
    },
    {
      "cell_type": "markdown",
      "source": [
        "## Incipit"
      ],
      "metadata": {
        "id": "7JzY-kfE5I8Q"
      }
    },
    {
      "cell_type": "code",
      "source": [
        "column_id = 'incipit'\n",
        "head = 20\n",
        "min_length_not_nan = 0\n",
        "print_basic_analyzis(chants, column = column_id, head = head, min_length_not_nan = min_length_not_nan)"
      ],
      "metadata": {
        "colab": {
          "base_uri": "https://localhost:8080/"
        },
        "id": "68TBG1UH5NrL",
        "outputId": "b58d550f-4da7-400f-f15e-ed3fe0d98856"
      },
      "execution_count": null,
      "outputs": [
        {
          "output_type": "stream",
          "name": "stdout",
          "text": [
            "------------------------------------ Basic Data Analyzis ------------------------------------\n",
            "   Unique values:    59035\n",
            "\n",
            "   Empty values:     16\n",
            "   Filled values:    497055\n",
            "\n",
            "   Value frequencies of first 20 values:\n",
            "Gloria patri et filio et         0.011405\n",
            "Gloria*                          0.004231\n",
            "Gloria patri*                    0.001929\n",
            "In omnem terram*                 0.001758\n",
            "Gloria et honore*                0.001656\n",
            "Specie tua*                      0.001567\n",
            "Alleluia*                        0.001467\n",
            "In omnem terram exivit sonus     0.001191\n",
            "Alleluia iii                     0.001109\n",
            "Ave Maria gratia plena           0.001050\n",
            "Justum deduxit*                  0.001040\n",
            "Diffusa est gratia in labiis     0.001040\n",
            "Specie tua et pulchritudine      0.001022\n",
            "Venite exsultemus domino         0.001022\n",
            "Tecum principium*                0.001016\n",
            "Benedicta tu in mulieribus et    0.001010\n",
            "Posuisti domine*                 0.000966\n",
            "Kyrie eleison*                   0.000966\n",
            "Ave Maria*                       0.000905\n",
            "Justorum animae*                 0.000895\n",
            "Name: incipit, dtype: float64\n",
            "---------------------------------------------------------------------------------------------\n"
          ]
        }
      ]
    },
    {
      "cell_type": "markdown",
      "source": [
        "## Cantus ID\n",
        "\n",
        "These 6-digit numbers (plus suffixes) have been created by Cantus in order that the large repertory of chants contained in medieval manuscripts can be easily managed and searched. Refer to the main catalogue of chants, Cantus Index, for chant texts and their corresponding Cantus ID Numbers, which are used in all connected databases in the Cantus Index network. For details about these numbers and their assignment in the database, see this page (under the \"About\" menu)."
      ],
      "metadata": {
        "id": "0x9E180b5PYw"
      }
    },
    {
      "cell_type": "code",
      "source": [
        "column_id = 'cantus_id'\n",
        "head = 5\n",
        "min_length_not_nan = 0\n",
        "print_basic_analyzis(chants, column = column_id, head = head, min_length_not_nan = min_length_not_nan)"
      ],
      "metadata": {
        "colab": {
          "base_uri": "https://localhost:8080/"
        },
        "id": "4fJprqoF5TTa",
        "outputId": "7e47e5f6-1985-47a6-9424-4cbf3fa2149a"
      },
      "execution_count": null,
      "outputs": [
        {
          "output_type": "stream",
          "name": "stdout",
          "text": [
            "------------------------------------ Basic Data Analyzis ------------------------------------\n",
            "   Unique values:    31501\n",
            "\n",
            "   Empty values:     10244\n",
            "   Filled values:    486827\n",
            "\n",
            "   Value frequencies of first 5 values:\n",
            "909000    0.018247\n",
            "008097    0.001865\n",
            "008081    0.001781\n",
            "001328    0.001725\n",
            "909030    0.001635\n",
            "Name: cantus_id, dtype: float64\n",
            "---------------------------------------------------------------------------------------------\n"
          ]
        }
      ]
    },
    {
      "cell_type": "markdown",
      "source": [
        "## Mode Statistic - something as Key, there should be only 8 of them which are not"
      ],
      "metadata": {
        "id": "zbgYatxR5TnW"
      }
    },
    {
      "cell_type": "code",
      "source": [
        "column_id = 'mode'\n",
        "head = 25\n",
        "min_length_not_nan = 0\n",
        "print_basic_analyzis(chants, column = column_id, head = head, min_length_not_nan = min_length_not_nan)"
      ],
      "metadata": {
        "colab": {
          "base_uri": "https://localhost:8080/"
        },
        "id": "3_7Ck6aS5Xe9",
        "outputId": "019a616e-2b80-4973-8e9b-a66d31b721c7"
      },
      "execution_count": null,
      "outputs": [
        {
          "output_type": "stream",
          "name": "stdout",
          "text": [
            "------------------------------------ Basic Data Analyzis ------------------------------------\n",
            "   Unique values:    142\n",
            "\n",
            "   Empty values:     38844\n",
            "   Filled values:    458227\n",
            "\n",
            "   Value frequencies of first 25 values:\n",
            "*     0.230755\n",
            "8     0.151012\n",
            "1     0.126099\n",
            "7     0.100153\n",
            "4     0.072121\n",
            "2     0.064346\n",
            "3     0.045866\n",
            "?     0.044703\n",
            "r     0.040661\n",
            "5     0.031179\n",
            "6     0.027975\n",
            "6T    0.008072\n",
            "4T    0.007219\n",
            "1S    0.006486\n",
            "2T    0.004177\n",
            "1T    0.003479\n",
            "8S    0.002977\n",
            "2S    0.002632\n",
            "3S    0.002444\n",
            "6S    0.002315\n",
            "5S    0.002027\n",
            "7S    0.001971\n",
            "8*    0.001680\n",
            "4S    0.001656\n",
            "1*    0.001504\n",
            "Name: mode, dtype: float64\n",
            "---------------------------------------------------------------------------------------------\n"
          ]
        }
      ]
    },
    {
      "cell_type": "markdown",
      "source": [
        "## Finalis - final note"
      ],
      "metadata": {
        "id": "nW3tlvXE5emH"
      }
    },
    {
      "cell_type": "code",
      "source": [
        "column_id = 'finalis'\n",
        "head = 25\n",
        "min_length_not_nan = 0\n",
        "print_basic_analyzis(chants, column = column_id, head = head, min_length_not_nan = min_length_not_nan)"
      ],
      "metadata": {
        "colab": {
          "base_uri": "https://localhost:8080/"
        },
        "id": "uBV-ciO65jP5",
        "outputId": "e82ced3e-2b29-4e00-d342-6ca646d3f08e"
      },
      "execution_count": null,
      "outputs": [
        {
          "output_type": "stream",
          "name": "stdout",
          "text": [
            "------------------------------------ Basic Data Analyzis ------------------------------------\n",
            "   Unique values:    35\n",
            "\n",
            "   Empty values:     488152\n",
            "   Filled values:    8919\n",
            "\n",
            "   Value frequencies of first 25 values:\n",
            "G              0.305752\n",
            "D              0.259782\n",
            "E              0.135778\n",
            "F              0.121426\n",
            "A              0.079157\n",
            "C              0.041933\n",
            "B              0.024891\n",
            "g              0.007512\n",
            "d              0.006839\n",
            "a              0.003139\n",
            "f              0.002242\n",
            "e              0.002018\n",
            "fa             0.001345\n",
            "*              0.001233\n",
            "mi             0.001233\n",
            "re             0.001009\n",
            "c              0.000785\n",
            "la             0.000673\n",
            "sol            0.000561\n",
            "D?             0.000336\n",
            "?              0.000336\n",
            "h              0.000336\n",
            "C?             0.000224\n",
            "d (cofinal)    0.000224\n",
            "H              0.000224\n",
            "Name: finalis, dtype: float64\n",
            "---------------------------------------------------------------------------------------------\n"
          ]
        }
      ]
    },
    {
      "cell_type": "markdown",
      "source": [
        "## Differentia\n",
        "\n",
        "This one- or two-digit number, or numbers and letters in combination, refers either to the differentia (the termination of the psalm tone to be employed in connection with a particular antiphon) or to the tone to be employed with an invitatory antiphon."
      ],
      "metadata": {
        "id": "XS0KKrGV5lzJ"
      }
    },
    {
      "cell_type": "code",
      "source": [
        "column_id = 'differentia'\n",
        "head = 20\n",
        "min_length_not_nan = 0\n",
        "print_basic_analyzis(chants, column = column_id, head = head, min_length_not_nan = min_length_not_nan)"
      ],
      "metadata": {
        "colab": {
          "base_uri": "https://localhost:8080/"
        },
        "id": "5QPUu0Oc5qOP",
        "outputId": "89c2b739-57c9-4580-8071-dc6710abbc5f"
      },
      "execution_count": null,
      "outputs": [
        {
          "output_type": "stream",
          "name": "stdout",
          "text": [
            "------------------------------------ Basic Data Analyzis ------------------------------------\n",
            "   Unique values:    681\n",
            "\n",
            "   Empty values:     319772\n",
            "   Filled values:    177299\n",
            "\n",
            "   Value frequencies of first 20 values:\n",
            "*      0.155630\n",
            "1      0.139662\n",
            "G1     0.120756\n",
            "A1     0.052713\n",
            "2      0.047620\n",
            "D1     0.043931\n",
            "F1     0.031433\n",
            "C1     0.026712\n",
            "E1     0.026029\n",
            "?      0.024744\n",
            "3      0.023666\n",
            "G2     0.021207\n",
            "5      0.014258\n",
            "w      0.013689\n",
            "4      0.012600\n",
            "a      0.010654\n",
            "G      0.009487\n",
            "A2     0.009171\n",
            "D2     0.008178\n",
            "G01    0.007778\n",
            "Name: differentia, dtype: float64\n",
            "---------------------------------------------------------------------------------------------\n"
          ]
        }
      ]
    },
    {
      "cell_type": "markdown",
      "source": [
        "## Siglum\n",
        "\n",
        "Some kind of ID to specific chapter of some source."
      ],
      "metadata": {
        "id": "B_eS8qaO5tFq"
      }
    },
    {
      "cell_type": "code",
      "source": [
        "column_id = 'siglum'\n",
        "head = 20\n",
        "min_length_not_nan = 0\n",
        "print_basic_analyzis(chants, column = column_id, head = head, min_length_not_nan = min_length_not_nan)"
      ],
      "metadata": {
        "colab": {
          "base_uri": "https://localhost:8080/"
        },
        "id": "ce-0lp395uxP",
        "outputId": "ef6c6e71-f780-486c-93d8-ed2a168d0292"
      },
      "execution_count": null,
      "outputs": [
        {
          "output_type": "stream",
          "name": "stdout",
          "text": [
            "------------------------------------ Basic Data Analyzis ------------------------------------\n",
            "   Unique values:    339\n",
            "\n",
            "   Empty values:     0\n",
            "   Filled values:    497071\n",
            "\n",
            "   Value frequencies of first 20 values:\n",
            "F-AS 893              0.016891\n",
            "GB-WO F.160           0.016314\n",
            "GB-WO F.160 (Facs)    0.015346\n",
            "F-Pn lat. 1085        0.013732\n",
            "F-CA 38               0.012608\n",
            "NL-Uu 406             0.012588\n",
            "PL-KIk 1              0.012566\n",
            "D-AAm G 20            0.012545\n",
            "I-Rv C.5              0.012501\n",
            "A-LIs 290             0.012493\n",
            "F-VAL 114             0.012411\n",
            "TR-Itks 42            0.012191\n",
            "PL-WRu R 503          0.012167\n",
            "A-VOR 287             0.011878\n",
            "E-Tc 44.2             0.011719\n",
            "MA Impr. 1537         0.011670\n",
            "D-KA Aug. LX          0.011666\n",
            "CH-SGs 388            0.011487\n",
            "F-Pn lat. 12044       0.011447\n",
            "A-Wn 1890             0.011202\n",
            "Name: siglum, dtype: float64\n",
            "---------------------------------------------------------------------------------------------\n"
          ]
        }
      ]
    },
    {
      "cell_type": "markdown",
      "source": [
        "## Position\n",
        "\n",
        "Identifies the liturgical role of a particular chant according to Gregorian chant's system.\n",
        "\n",
        "*ToDo: Do better statistic mapping this column to for instance genre column etc...*"
      ],
      "metadata": {
        "id": "C0qpAfP05w7Z"
      }
    },
    {
      "cell_type": "code",
      "source": [
        "column_id = 'position'\n",
        "head = 30\n",
        "min_length_not_nan = 0\n",
        "print_basic_analyzis(chants, column = column_id, head = head, min_length_not_nan = min_length_not_nan)"
      ],
      "metadata": {
        "colab": {
          "base_uri": "https://localhost:8080/"
        },
        "id": "QfESdJfv5yfs",
        "outputId": "8f2f25db-b3db-4e0b-88d4-366899c5fd83"
      },
      "execution_count": null,
      "outputs": [
        {
          "output_type": "stream",
          "name": "stdout",
          "text": [
            "------------------------------------ Basic Data Analyzis ------------------------------------\n",
            "   Unique values:    456\n",
            "\n",
            "   Empty values:     104459\n",
            "   Filled values:    392612\n",
            "\n",
            "   Value frequencies of first 30 values:\n",
            "01     0.224374\n",
            "1      0.066857\n",
            "2      0.055579\n",
            "M      0.053544\n",
            "3      0.050210\n",
            "4      0.041247\n",
            "B      0.040271\n",
            "5      0.034984\n",
            "1.1    0.031769\n",
            "1.2    0.030045\n",
            "1.3    0.029795\n",
            "02     0.029039\n",
            "2.1    0.026056\n",
            "2.3    0.025262\n",
            "2.2    0.025236\n",
            "3.1    0.022521\n",
            "3.2    0.022091\n",
            "3.3    0.021579\n",
            "1.     0.016293\n",
            "3.     0.015438\n",
            "2.     0.012450\n",
            "R      0.011268\n",
            "1.4    0.008421\n",
            "6      0.007649\n",
            "2.4    0.007542\n",
            "7      0.006143\n",
            "8      0.005527\n",
            "10     0.004972\n",
            "3.4    0.004959\n",
            "9      0.004778\n",
            "Name: position, dtype: float64\n",
            "---------------------------------------------------------------------------------------------\n"
          ]
        }
      ]
    },
    {
      "cell_type": "markdown",
      "source": [
        "## Folio\n",
        "\n",
        "Folio or page in the manuscript where the chant is found."
      ],
      "metadata": {
        "id": "KdcrJCHm56Gw"
      }
    },
    {
      "cell_type": "code",
      "source": [
        "column_id = 'folio'\n",
        "head = 5\n",
        "min_length_not_nan = 0\n",
        "print_basic_analyzis(chants, column = column_id, head = head, min_length_not_nan = min_length_not_nan)"
      ],
      "metadata": {
        "colab": {
          "base_uri": "https://localhost:8080/"
        },
        "id": "f2PxdGr-56hI",
        "outputId": "eece1add-ba89-4afa-a02b-08d1add135f8"
      },
      "execution_count": null,
      "outputs": [
        {
          "output_type": "stream",
          "name": "stdout",
          "text": [
            "------------------------------------ Basic Data Analyzis ------------------------------------\n",
            "   Unique values:    2573\n",
            "\n",
            "   Empty values:     35\n",
            "   Filled values:    497036\n",
            "\n",
            "   Value frequencies of first 5 values:\n",
            "055r    0.002312\n",
            "077r    0.002282\n",
            "035v    0.002271\n",
            "026r    0.002257\n",
            "107r    0.002255\n",
            "Name: folio, dtype: float64\n",
            "---------------------------------------------------------------------------------------------\n"
          ]
        }
      ]
    },
    {
      "cell_type": "markdown",
      "source": [
        "## Sequence\n",
        "\n",
        "Order in which the chant is found on the page or folio side."
      ],
      "metadata": {
        "id": "QlMjEH8m5-IV"
      }
    },
    {
      "cell_type": "code",
      "source": [
        "column_id = 'sequence'\n",
        "head = 5\n",
        "min_length_not_nan = 0\n",
        "print_basic_analyzis(chants, column = column_id, head = head, min_length_not_nan = min_length_not_nan)"
      ],
      "metadata": {
        "colab": {
          "base_uri": "https://localhost:8080/"
        },
        "id": "_UIumIAT5_yX",
        "outputId": "ca1937a6-32ef-4ab1-bd6d-e3d1031af2e1"
      },
      "execution_count": null,
      "outputs": [
        {
          "output_type": "stream",
          "name": "stdout",
          "text": [
            "------------------------------------ Basic Data Analyzis ------------------------------------\n",
            "   Unique values:    115\n",
            "\n",
            "   Empty values:     37\n",
            "   Filled values:    497034\n",
            "\n",
            "   Value frequencies of first 5 values:\n",
            "1.0    0.148966\n",
            "2.0    0.130146\n",
            "3.0    0.111401\n",
            "4.0    0.098162\n",
            "5.0    0.083936\n",
            "Name: sequence, dtype: float64\n",
            "---------------------------------------------------------------------------------------------\n"
          ]
        }
      ]
    },
    {
      "cell_type": "markdown",
      "source": [
        "## Marginalia\n",
        "\n",
        "Additional clarification of the location of the chant on the folio or page."
      ],
      "metadata": {
        "id": "0eELGhuN6CBl"
      }
    },
    {
      "cell_type": "code",
      "source": [
        "column_id = 'marginalia'\n",
        "head = 5\n",
        "min_length_not_nan = 0\n",
        "print_basic_analyzis(chants, column = column_id, head = head, min_length_not_nan = min_length_not_nan)"
      ],
      "metadata": {
        "colab": {
          "base_uri": "https://localhost:8080/"
        },
        "id": "RJZSyECg6EXA",
        "outputId": "ab354adb-d95e-4a57-f5fb-082fe5f317eb"
      },
      "execution_count": null,
      "outputs": [
        {
          "output_type": "stream",
          "name": "stdout",
          "text": [
            "------------------------------------ Basic Data Analyzis ------------------------------------\n",
            "   Unique values:    73\n",
            "\n",
            "   Empty values:     483040\n",
            "   Filled values:    14031\n",
            "\n",
            "   Value frequencies of first 5 values:\n",
            "4    0.200200\n",
            "7    0.147459\n",
            "B    0.119307\n",
            "A    0.115316\n",
            ":    0.064144\n",
            "Name: marginalia, dtype: float64\n",
            "---------------------------------------------------------------------------------------------\n"
          ]
        }
      ]
    },
    {
      "cell_type": "markdown",
      "source": [
        "## CAO Concordances\n",
        "\n",
        "Corpus Antiphonalium Officii Concordances"
      ],
      "metadata": {
        "id": "-S0FAkzL6Ilw"
      }
    },
    {
      "cell_type": "code",
      "source": [
        "column_id = 'cao_concordances'\n",
        "head = 10\n",
        "min_length_not_nan = 0\n",
        "print_basic_analyzis(chants, column = column_id, head = head, min_length_not_nan = min_length_not_nan)"
      ],
      "metadata": {
        "colab": {
          "base_uri": "https://localhost:8080/"
        },
        "id": "OShUjxT_6NcB",
        "outputId": "3f3e0c23-3604-478a-ba8a-9cc418c1067b"
      },
      "execution_count": null,
      "outputs": [
        {
          "output_type": "stream",
          "name": "stdout",
          "text": [
            "------------------------------------ Basic Data Analyzis ------------------------------------\n",
            "   Unique values:    1114\n",
            "\n",
            "   Empty values:     232283\n",
            "   Filled values:    264788\n",
            "\n",
            "   Value frequencies of first 10 values:\n",
            "CGBEMVHRDFSL    0.198683\n",
            "C BEMVHRDFSL    0.067394\n",
            "C  EMVHRDFSL    0.030685\n",
            "GBEMVHRDFSL     0.024193\n",
            "SL              0.020076\n",
            "CGBEMVHRDFS     0.015008\n",
            "L               0.014989\n",
            "R               0.012723\n",
            "C BEMVHRDFS     0.012527\n",
            "C BEMVHRD SL    0.011572\n",
            "Name: cao_concordances, dtype: float64\n",
            "---------------------------------------------------------------------------------------------\n"
          ]
        }
      ]
    },
    {
      "cell_type": "markdown",
      "source": [
        "## Feasts\n",
        "\n",
        "Feast - holidays/special days ...\n",
        "Name, description, date, month, day, feast_code and notes could be found in *feast.csv* file that could be mapped with these IDs."
      ],
      "metadata": {
        "id": "ePoJ73-N6OIM"
      }
    },
    {
      "cell_type": "code",
      "source": [
        "column_id = 'feast_id'\n",
        "head = 10\n",
        "min_length_not_nan = 0\n",
        "print_basic_analyzis(chants, column = column_id, head = head, min_length_not_nan = min_length_not_nan)"
      ],
      "metadata": {
        "colab": {
          "base_uri": "https://localhost:8080/"
        },
        "id": "svpoJ2F46Qo4",
        "outputId": "7fe4699a-7ad7-4357-b9e4-882a5cd2edfe"
      },
      "execution_count": null,
      "outputs": [
        {
          "output_type": "stream",
          "name": "stdout",
          "text": [
            "------------------------------------ Basic Data Analyzis ------------------------------------\n",
            "   Unique values:    1363\n",
            "\n",
            "   Empty values:     8374\n",
            "   Filled values:    488697\n",
            "\n",
            "   Value frequencies of first 10 values:\n",
            "feast_1202    0.017690\n",
            "feast_0227    0.014340\n",
            "feast_0552    0.013663\n",
            "feast_0198    0.013153\n",
            "feast_0500    0.012587\n",
            "feast_1416    0.012396\n",
            "feast_0093    0.011868\n",
            "feast_0258    0.011850\n",
            "feast_0475    0.011727\n",
            "feast_0933    0.011703\n",
            "Name: feast_id, dtype: float64\n",
            "---------------------------------------------------------------------------------------------\n"
          ]
        }
      ]
    },
    {
      "cell_type": "markdown",
      "source": [
        "## Genres\n",
        "\n",
        "Generes of Masses and Officces - detailed description could be found in file *genre.csv* that could be mapped to these IDs.\n",
        "\n",
        "**genre_a**: Antiphon - Office\n",
        "\n",
        "**genre_r**: Responsory - Office\n",
        "\n",
        "**genre_v**: Responsory verse - Office\n",
        "\n",
        "**genre_h**: Hymn - Office\n",
        "\n",
        "**genre_i**: Invitatory antiphon - Office\n",
        "\n",
        "**genre_av**: Antiphon verse - Office\n",
        "\n",
        "**genre_gr**: Gradual - Mass\n",
        "\n",
        "**genre_al**: Alleluia - Mass\n",
        "\n",
        "**genre_ps**: Psalm - Office"
      ],
      "metadata": {
        "id": "H_cGsyMQ6S0G"
      }
    },
    {
      "cell_type": "code",
      "source": [
        "column_id = 'genre_id'\n",
        "head = 10\n",
        "min_length_not_nan = 0\n",
        "print_basic_analyzis(chants, column = column_id, head = head, min_length_not_nan = min_length_not_nan)"
      ],
      "metadata": {
        "colab": {
          "base_uri": "https://localhost:8080/"
        },
        "id": "wdrxaMas6Wee",
        "outputId": "8ea06128-3964-4e42-9023-85f7494738c7"
      },
      "execution_count": null,
      "outputs": [
        {
          "output_type": "stream",
          "name": "stdout",
          "text": [
            "------------------------------------ Basic Data Analyzis ------------------------------------\n",
            "   Unique values:    47\n",
            "\n",
            "   Empty values:     3969\n",
            "   Filled values:    493102\n",
            "\n",
            "   Value frequencies of first 10 values:\n",
            "genre_a     0.416565\n",
            "genre_r     0.207752\n",
            "genre_v     0.191607\n",
            "genre_w     0.072184\n",
            "genre_h     0.036179\n",
            "genre_i     0.020454\n",
            "genre_av    0.007110\n",
            "genre_gr    0.004889\n",
            "genre_al    0.004831\n",
            "genre_ps    0.004766\n",
            "Name: genre_id, dtype: float64\n",
            "---------------------------------------------------------------------------------------------\n"
          ]
        }
      ]
    },
    {
      "cell_type": "markdown",
      "source": [
        "## Offices\n",
        "\n",
        "IDs of offices, detailed described in *office.csv*.\n",
        "\n",
        "**office_m**: Matins\n",
        "\n",
        "**office_l**: Lauds\n",
        "\n",
        "**office_v2**: Second Vespers\n",
        "\n",
        "**office_v**: First Vespers\n",
        "\n",
        "**office_mi**: Mass"
      ],
      "metadata": {
        "id": "PNvNn6Cv6dPI"
      }
    },
    {
      "cell_type": "code",
      "source": [
        "column_id = 'office_id'\n",
        "head = 5\n",
        "min_length_not_nan = 0\n",
        "print_basic_analyzis(chants, column = column_id, head = head, min_length_not_nan = min_length_not_nan)"
      ],
      "metadata": {
        "colab": {
          "base_uri": "https://localhost:8080/"
        },
        "id": "Ke4vL4ka6iqH",
        "outputId": "c145c7d7-6a35-4dd4-c10f-df7b7380c17f"
      },
      "execution_count": null,
      "outputs": [
        {
          "output_type": "stream",
          "name": "stdout",
          "text": [
            "------------------------------------ Basic Data Analyzis ------------------------------------\n",
            "   Unique values:    17\n",
            "\n",
            "   Empty values:     2117\n",
            "   Filled values:    494954\n",
            "\n",
            "   Value frequencies of first 5 values:\n",
            "office_m     0.511439\n",
            "office_l     0.156061\n",
            "office_v2    0.081391\n",
            "office_v     0.074284\n",
            "office_mi    0.038167\n",
            "Name: office_id, dtype: float64\n",
            "---------------------------------------------------------------------------------------------\n"
          ]
        }
      ]
    },
    {
      "cell_type": "markdown",
      "source": [
        "## Sources\n",
        "IDs of sources, more described in *source.csv*.\n",
        "\n",
        "**source_309**: Arras, Bibliothèque municipale, 893 (olim 465),Ff. 7-12: Kalendar of Arras.\n",
        "\n",
        "**source_390**: Worcester, Cathedral - Music Library, F.160 (olim 1247) (with hymnal)93v, Sundays after Pentecost.\n",
        "\n",
        "..."
      ],
      "metadata": {
        "id": "NsYhFWUd6kF4"
      }
    },
    {
      "cell_type": "code",
      "source": [
        "column_id = 'source_id'\n",
        "head = 5\n",
        "min_length_not_nan = 0\n",
        "print_basic_analyzis(chants, column = column_id, head = head, min_length_not_nan = min_length_not_nan)"
      ],
      "metadata": {
        "colab": {
          "base_uri": "https://localhost:8080/"
        },
        "id": "i2IDZUNL6l9K",
        "outputId": "3ef1eb45-5838-48c9-f46b-95cff0a3885c"
      },
      "execution_count": null,
      "outputs": [
        {
          "output_type": "stream",
          "name": "stdout",
          "text": [
            "------------------------------------ Basic Data Analyzis ------------------------------------\n",
            "   Unique values:    281\n",
            "\n",
            "   Empty values:     40823\n",
            "   Filled values:    456248\n",
            "\n",
            "   Value frequencies of first 5 values:\n",
            "source_309    0.018402\n",
            "source_390    0.017773\n",
            "source_633    0.016719\n",
            "source_336    0.014961\n",
            "source_573    0.014415\n",
            "Name: source_id, dtype: float64\n",
            "---------------------------------------------------------------------------------------------\n"
          ]
        }
      ]
    },
    {
      "cell_type": "markdown",
      "source": [
        "## Melodies\n",
        "\n",
        "IDs of melodies - how to decode it?"
      ],
      "metadata": {
        "id": "gTfhsE1m6nl7"
      }
    },
    {
      "cell_type": "code",
      "source": [
        "column_id = 'melody_id'\n",
        "head = 5\n",
        "min_length_not_nan = 0\n",
        "print_basic_analyzis(chants, column = column_id, head = head, min_length_not_nan = min_length_not_nan)"
      ],
      "metadata": {
        "colab": {
          "base_uri": "https://localhost:8080/"
        },
        "id": "iMDAF-fl6qT2",
        "outputId": "dcba14a1-98eb-4d5b-e53a-1a5fe31e8716"
      },
      "execution_count": null,
      "outputs": [
        {
          "output_type": "stream",
          "name": "stdout",
          "text": [
            "------------------------------------ Basic Data Analyzis ------------------------------------\n",
            "   Unique values:    92\n",
            "\n",
            "   Empty values:     496980\n",
            "   Filled values:    91\n",
            "\n",
            "   Value frequencies of first 5 values:\n",
            "038835751fabdac62104a2d5f1b474449f701d025882fc71a6467e5a390a4132    0.010989\n",
            "a15e2ae954ce0d5156fe7fb821fe5e49026fa74b489a6c131641f3ae97c49a31    0.010989\n",
            "9d474462825ab1fe5e526c60e1897b657f98ce2d1b61648bcc3c0e083865a68a    0.010989\n",
            "2e588ca5d6fa690626b5fc41c104f2b528894484ce4a768a5ec0d09edb6639a6    0.010989\n",
            "b3d4f999ed87e4719fcaf06e7ba5f700352545e68471d1eab55113c288c4c4bb    0.010989\n",
            "Name: melody_id, dtype: float64\n",
            "---------------------------------------------------------------------------------------------\n"
          ]
        }
      ]
    },
    {
      "cell_type": "markdown",
      "source": [
        "## Drupal path\n",
        "\n",
        "URL to Cantus website page of chant - each chant has own URL."
      ],
      "metadata": {
        "id": "xH5ITKFU6siP"
      }
    },
    {
      "cell_type": "code",
      "source": [
        "column_id = 'drupal_path'\n",
        "head = 5\n",
        "min_length_not_nan = 0\n",
        "print_basic_analyzis(chants, column = column_id, head = head, min_length_not_nan = min_length_not_nan)"
      ],
      "metadata": {
        "colab": {
          "base_uri": "https://localhost:8080/"
        },
        "id": "j9Y5g7vO6wpz",
        "outputId": "d60c07f6-56d1-4602-9af7-9ee18dc6a59d"
      },
      "execution_count": null,
      "outputs": [
        {
          "output_type": "stream",
          "name": "stdout",
          "text": [
            "------------------------------------ Basic Data Analyzis ------------------------------------\n",
            "   Unique values:    497071\n",
            "\n",
            "   Empty values:     0\n",
            "   Filled values:    497071\n",
            "\n",
            "   Value frequencies of first 5 values:\n",
            "http://cantus.uwaterloo.ca/chant/693173/    0.000002\n",
            "http://cantus.uwaterloo.ca/chant/424101/    0.000002\n",
            "http://cantus.uwaterloo.ca/chant/219506/    0.000002\n",
            "http://cantus.uwaterloo.ca/chant/459754/    0.000002\n",
            "http://cantus.uwaterloo.ca/chant/205134/    0.000002\n",
            "Name: drupal_path, dtype: float64\n",
            "---------------------------------------------------------------------------------------------\n"
          ]
        }
      ]
    },
    {
      "cell_type": "markdown",
      "source": [
        "## Full texts\n",
        "\n",
        "Full text in a standardized spelling."
      ],
      "metadata": {
        "id": "UxKHEesF6yGu"
      }
    },
    {
      "cell_type": "code",
      "source": [
        "column_id = 'full_text'\n",
        "head = 10\n",
        "min_length_not_nan = 5\n",
        "print_basic_analyzis(chants, column = column_id, head = head, min_length_not_nan = min_length_not_nan)\n",
        "print_extended_analyzis(chants, column = column_id, min_length_not_nan = min_length_not_nan)"
      ],
      "metadata": {
        "colab": {
          "base_uri": "https://localhost:8080/"
        },
        "id": "P3SvkFTT60Xb",
        "outputId": "9f9627ea-af76-45c3-a9d5-f9dd1cc7b719"
      },
      "execution_count": null,
      "outputs": [
        {
          "output_type": "stream",
          "name": "stdout",
          "text": [
            "------------------------------------ Basic Data Analyzis ------------------------------------\n",
            "   Unique values:    53697\n",
            "\n",
            "   Empty values:     279127\n",
            "   Filled values:    217944\n",
            "\n",
            "   Value frequencies of first 10 values:\n",
            "Gloria patri et filio et spiritui sancto    0.008151\n",
            "Gloria*                                     0.003911\n",
            "Alleluia*                                   0.003145\n",
            "LACUNA                                      0.001971\n",
            "In omnem terram*                            0.001802\n",
            "Kyrie eleison*                              0.001788\n",
            "Gloria et honore*                           0.001628\n",
            "Specie tua*                                 0.001554\n",
            "Alleluia alleluia alleluia                  0.001284\n",
            "Gloria patri*                               0.001279\n",
            "Name: full_text, dtype: float64\n",
            "---------------------------------------------------------------------------------------------\n",
            "---------------------------------- Extended Data Analyzis -----------------------------------\n",
            "   Average value length:     70.4817659582278\n",
            "   Maximal value length:     6920\n",
            "   Minimal value length:     5\n",
            "---------------------------------------------------------------------------------------------\n"
          ]
        }
      ]
    },
    {
      "cell_type": "markdown",
      "source": [
        "## Full texts - manuscripts\n",
        "\n",
        "Full text in the manuscript spelling. This also includes barlines, or missing texts, etc."
      ],
      "metadata": {
        "id": "5_DsSy-p62D9"
      }
    },
    {
      "cell_type": "code",
      "source": [
        "column_id = 'full_text_manuscript'\n",
        "head = 10\n",
        "min_length_not_nan = 5\n",
        "print_basic_analyzis(chants, column = column_id, head = head, min_length_not_nan = min_length_not_nan)\n",
        "print_extended_analyzis(chants, column = column_id, min_length_not_nan = min_length_not_nan)"
      ],
      "metadata": {
        "colab": {
          "base_uri": "https://localhost:8080/"
        },
        "id": "8ka52M-467jo",
        "outputId": "51a21dd1-a127-428b-9e67-97abe0965c7a"
      },
      "execution_count": null,
      "outputs": [
        {
          "output_type": "stream",
          "name": "stdout",
          "text": [
            "------------------------------------ Basic Data Analyzis ------------------------------------\n",
            "   Unique values:    89090\n",
            "\n",
            "   Empty values:     345585\n",
            "   Filled values:    151486\n",
            "\n",
            "   Value frequencies of first 10 values:\n",
            "Gloria patri et filio et spiritui sancto    0.005771\n",
            "Gloria                                      0.003462\n",
            "Alleluia                                    0.001438\n",
            "Gloria et honore                            0.001233\n",
            "In omnem terram                             0.001200\n",
            "Sanctus                                     0.001161\n",
            "Agnus                                       0.001095\n",
            "Gloria patri                                0.001016\n",
            "Posuisti domine                             0.000956\n",
            "Tecum principium                            0.000923\n",
            "Name: full_text_manuscript, dtype: float64\n",
            "---------------------------------------------------------------------------------------------\n",
            "---------------------------------- Extended Data Analyzis -----------------------------------\n",
            "   Average value length:     78.3716581070198\n",
            "   Maximal value length:     6996\n",
            "   Minimal value length:     5\n",
            "---------------------------------------------------------------------------------------------\n"
          ]
        }
      ]
    },
    {
      "cell_type": "markdown",
      "source": [
        "## Volpiano\n",
        "\n",
        "Transcription of the melody in the Volpiano typeface.\n",
        "\n",
        "For more info at [cantus page](http://cantus.uwaterloo.ca/description#Volpiano) or [volpiano pdf document](https://cantus.uwaterloo.ca/sites/default/files/documents/2.%20Volpiano%20Protocols.pdf)."
      ],
      "metadata": {
        "id": "eGhb1sJH670K"
      }
    },
    {
      "cell_type": "code",
      "source": [
        "column_id = 'volpiano'\n",
        "head = 40\n",
        "min_length_not_nan = 1\n",
        "print_basic_analyzis(chants, column = column_id, head = head, min_length_not_nan = min_length_not_nan)\n",
        "print_extended_analyzis(chants, column = column_id, min_length_not_nan = min_length_not_nan)"
      ],
      "metadata": {
        "colab": {
          "base_uri": "https://localhost:8080/"
        },
        "id": "pxZRgG607FgO",
        "outputId": "e154914a-78e3-4b40-8d1b-27f52987d748"
      },
      "execution_count": null,
      "outputs": [
        {
          "output_type": "stream",
          "name": "stdout",
          "text": [
            "------------------------------------ Basic Data Analyzis ------------------------------------\n",
            "   Unique values:    60282\n",
            "\n",
            "   Empty values:     433443\n",
            "   Filled values:    63628\n",
            "\n",
            "   Value frequencies of first 40 values:\n",
            "1---6------6---3                            0.022899\n",
            "1---6------67---3                           0.002813\n",
            "1---6------6---3---6------6---3             0.001022\n",
            "1---f--f---f---3                            0.000802\n",
            "1---f--f--f--f---3                          0.000393\n",
            "1---f--f--e---3                             0.000377\n",
            "1--lmnml-kj-klkkj--kl-k--k--kl-k-k--k-      0.000330\n",
            "1---6------677---3                          0.000299\n",
            "1---6------6---3---6------67---3            0.000267\n",
            "1---f--f--f---f---3                         0.000267\n",
            "1---f--f--f---f--f---3                      0.000251\n",
            "1---h--h--h---3                             0.000251\n",
            "1---h--h--g--h---3                          0.000251\n",
            "1---e---g--h7---3                           0.000251\n",
            "1---f--f---f--f---3                         0.000236\n",
            "1---f--f--e---g--h7---3                     0.000236\n",
            "1---f--f--f---3                             0.000236\n",
            "1--cdffg-f-f--gh-g--f--fg-f-f--f-           0.000236\n",
            "1--h-h-hghggf--gh-g--g--gh-g-g--g-          0.000189\n",
            "1---f--f--f--f7---3                         0.000173\n",
            "1---f---f--f---3                            0.000173\n",
            "1---f--f--e7---3                            0.000157\n",
            "1---k--k--k---k---k--k--kkjhg-hj-kh7---3    0.000157\n",
            "1---6------67---4                           0.000157\n",
            "1---f--f--f--f---f---3                      0.000157\n",
            "1---f--f---f---f---3                        0.000157\n",
            "1---g--kk--hkJ--g---3                       0.000157\n",
            "1---6------6---4                            0.000157\n",
            "1---h--h--h7---3                            0.000157\n",
            "1---f--f--f---f7---3                        0.000141\n",
            "1---f--f---f--f7---3                        0.000126\n",
            "1---g--gk--h---3                            0.000126\n",
            "1---6-------6---3                           0.000126\n",
            "1---f--f---f7---3                           0.000126\n",
            "1--klkk-hjkj-hg--jk-h--h--hk-h-h--h-        0.000110\n",
            "1---f--f--f--f--f--f---3                    0.000110\n",
            "1---g--g--j--k---4                          0.000110\n",
            "1---f--f--f7---3                            0.000110\n",
            "1---g--h--k--k---4                          0.000110\n",
            "1---f--c---d--dhij--h--h---3                0.000094\n",
            "Name: volpiano, dtype: float64\n",
            "---------------------------------------------------------------------------------------------\n",
            "---------------------------------- Extended Data Analyzis -----------------------------------\n",
            "   Average value length:     135.3538222166342\n",
            "   Maximal value length:     4923\n",
            "   Minimal value length:     4\n",
            "---------------------------------------------------------------------------------------------\n"
          ]
        }
      ]
    },
    {
      "cell_type": "markdown",
      "source": [
        "## Notes"
      ],
      "metadata": {
        "id": "XQAzXHEo7Gj_"
      }
    },
    {
      "cell_type": "code",
      "source": [
        "column_id = 'notes'\n",
        "head = 10\n",
        "min_length_not_nan = 1\n",
        "print_basic_analyzis(chants, column = column_id, head = head, min_length_not_nan = min_length_not_nan)\n",
        "print_extended_analyzis(chants, column = column_id, min_length_not_nan = min_length_not_nan)"
      ],
      "metadata": {
        "colab": {
          "base_uri": "https://localhost:8080/"
        },
        "id": "onfnnlO_7Iss",
        "outputId": "e1721072-cfb3-4261-df0a-c303794d6bc9"
      },
      "execution_count": null,
      "outputs": [
        {
          "output_type": "stream",
          "name": "stdout",
          "text": [
            "------------------------------------ Basic Data Analyzis ------------------------------------\n",
            "   Unique values:    78\n",
            "\n",
            "   Empty values:     496974\n",
            "   Filled values:    97\n",
            "\n",
            "   Value frequencies of first 10 values:\n",
            "Differentia added in margin                   0.072165\n",
            "Diff. added in margin                         0.072165\n",
            "Text and music incipit only                   0.030928\n",
            "???, feast?                                   0.020619\n",
            "Psalm  cued but differentia not written in    0.020619\n",
            "Wrongly labelled A                            0.020619\n",
            "DELETE                                        0.020619\n",
            "Incipit is crossed out.                       0.020619\n",
            "Duplicate - Needs to be deleted               0.020619\n",
            "ps Deus judicium;...                          0.010309\n",
            "Name: notes, dtype: float64\n",
            "---------------------------------------------------------------------------------------------\n",
            "---------------------------------- Extended Data Analyzis -----------------------------------\n",
            "   Average value length:     31.22680412371134\n",
            "   Maximal value length:     142\n",
            "   Minimal value length:     3\n",
            "---------------------------------------------------------------------------------------------\n"
          ]
        }
      ]
    }
  ],
  "metadata": {
    "colab": {
      "collapsed_sections": [
        "0gk6D3ST1rXQ",
        "pgFAQVsUKSuK",
        "tq40Dkpya7HV",
        "UMPCBP2b1KDG",
        "C0qpAfP05w7Z",
        "KdcrJCHm56Gw",
        "eGhb1sJH670K"
      ],
      "provenance": []
    },
    "kernelspec": {
      "display_name": "Python 3",
      "name": "python3"
    },
    "language_info": {
      "name": "python"
    }
  },
  "nbformat": 4,
  "nbformat_minor": 0
}