{
  "cells": [
    {
      "cell_type": "code",
      "source": [
        "from music21 import *\n",
        "import os\n",
        "import pandas as pd\n",
        "import numpy as np \n",
        "from sklearn.metrics import accuracy_score\n",
        "from collections import Counter\n",
        "\n",
        "DATASET_DIR = \"./dataset/csv\"\n",
        "CSV_FILE = \"chant.csv\"\n",
        "def load_chants(dataset_dir: str = DATASET_DIR, csv_file: str = CSV_FILE):\n",
        "    chants = pd.read_csv(os.path.join(dataset_dir, csv_file), index_col='id')\n",
        "    return chants\n",
        "chants = load_chants()"
      ],
      "metadata": {
        "colab": {
          "base_uri": "https://localhost:8080/"
        },
        "id": "_lpbvySgPme1",
        "outputId": "f58ad101-5507-4ee0-9939-4845522324a5"
      },
      "execution_count": 169,
      "outputs": [
        {
          "output_type": "stream",
          "name": "stderr",
          "text": [
            "/usr/local/lib/python3.7/dist-packages/ipykernel_launcher.py:13: DtypeWarning: Columns (16) have mixed types.Specify dtype option on import or set low_memory=False.\n",
            "  del sys.path[0]\n"
          ]
        }
      ]
    },
    {
      "cell_type": "code",
      "source": [
        "# Prepare data\n",
        "dataset = {'data': [],\n",
        "           'labels': []\n",
        "}\n",
        "for finalis, volpiano, mode in zip(chants['finalis'], chants['volpiano'], chants['mode']):\n",
        "  if (mode == '1' or mode == '2' or mode == '3' or mode == '4' or mode == '5' or mode == '6' or mode == '7' or mode == '8') and (not type(finalis) is float) and (not type(volpiano) is float):\n",
        "    data_dict = {}\n",
        "    data_dict['finalis'] = finalis\n",
        "    data_dict['volpiano'] = volpiano\n",
        "    dataset['data'].append(data_dict)\n",
        "    dataset['labels'].append(mode)\n",
        "print(len(dataset['data']))\n"
      ],
      "metadata": {
        "colab": {
          "base_uri": "https://localhost:8080/"
        },
        "id": "68mERQKEPpQ9",
        "outputId": "69579471-ec24-4e86-a5ed-2858f4778129"
      },
      "execution_count": 185,
      "outputs": [
        {
          "output_type": "stream",
          "name": "stdout",
          "text": [
            "422\n"
          ]
        }
      ]
    },
    {
      "cell_type": "code",
      "source": [
        "class BasicModel():\n",
        "\n",
        "  def fit(self, data):\n",
        "    predicted = []\n",
        "    for x in data:\n",
        "      predicted.append(self.__process_chant(x['finalis'], x['volpiano']))\n",
        "    return predicted\n",
        "\n",
        "  def __process_chant(self, finalis, volpiano):\n",
        "    finalis = finalis.lower()\n",
        "    counter = Counter(volpiano)\n",
        "    if finalis == 'd':\n",
        "      dorian_sum = counter['d'] + counter['e'] + counter['f'] + counter['g'] + counter['h'] + counter['j']+ counter['k']+ counter['l']\n",
        "      hyperdorian_sum = counter['a'] + counter['b'] + counter['c'] + counter['d'] + counter['e'] + counter['f']+ counter['g']+ counter['h']\n",
        "      if hyperdorian_sum < dorian_sum:\n",
        "        return '1'\n",
        "      else:\n",
        "        return '2'\n",
        "    elif finalis == 'e':\n",
        "      phrygian_sum = counter['e'] + counter['f'] + counter['g'] + counter['h'] + counter['j']+ counter['k']+ counter['l'] + counter['m']\n",
        "      hyperphrygian_sum = counter['b'] + counter['c'] + counter['d'] + counter['e'] + counter['f']+ counter['g']+ counter['h'] + counter['j']\n",
        "      if hyperphrygian_sum < phrygian_sum:\n",
        "        return '3'\n",
        "      else:\n",
        "        return '4'\n",
        "    elif finalis == 'f':\n",
        "      lydian_sum = counter['f'] + counter['g'] + counter['h'] + counter['j']+ counter['k']+ counter['l'] + counter['m'] + counter['n'] \n",
        "      hyperlydian_sum = counter['c'] + counter['d'] + counter['e'] + counter['f']+ counter['g']+ counter['h'] + counter['j'] + counter['k']\n",
        "      if hyperlydian_sum < lydian_sum:\n",
        "        return 5\n",
        "      else:\n",
        "        return '6'\n",
        "    elif finalis == 'g':\n",
        "      mixolydian_sum = counter['g'] + counter['h'] + counter['j']+ counter['k']+ counter['l'] + counter['m'] + counter['n'] + counter['o']  \n",
        "      hypermixolydian_sum = counter['d'] + counter['e'] + counter['f']+ counter['g']+ counter['h'] + counter['j'] + counter['k'] + counter['l']\n",
        "      if hypermixolydian_sum < mixolydian_sum:\n",
        "        return '7'\n",
        "      else:\n",
        "        return '8'\n",
        "    else:\n",
        "      return '1'\n",
        "\n",
        "  def score(self, predicted, labels):\n",
        "    return accuracy_score(labels, predicted)\n"
      ],
      "metadata": {
        "id": "mTY6OS9MSVLi"
      },
      "execution_count": 186,
      "outputs": []
    },
    {
      "cell_type": "code",
      "source": [
        "model = BasicModel()\n",
        "predicted = model.fit(dataset['data'])\n",
        "print(model.score(predicted, dataset['labels']))"
      ],
      "metadata": {
        "colab": {
          "base_uri": "https://localhost:8080/"
        },
        "id": "uyPhJ7ojW2xF",
        "outputId": "c0f086dc-36b3-4c19-f357-f883a3501dda"
      },
      "execution_count": 187,
      "outputs": [
        {
          "output_type": "stream",
          "name": "stdout",
          "text": [
            "0.7227488151658767\n"
          ]
        }
      ]
    }
  ],
  "metadata": {
    "colab": {
      "collapsed_sections": [],
      "provenance": []
    },
    "kernelspec": {
      "display_name": "Python 3",
      "name": "python3"
    },
    "language_info": {
      "name": "python"
    }
  },
  "nbformat": 4,
  "nbformat_minor": 0
}