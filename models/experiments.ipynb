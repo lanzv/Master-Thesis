{
  "nbformat": 4,
  "nbformat_minor": 0,
  "metadata": {
    "colab": {
      "provenance": [],
      "collapsed_sections": [
        "lwJEjU5EY3Ht",
        "G_hc4gHnY9L-"
      ]
    },
    "kernelspec": {
      "name": "python3",
      "display_name": "Python 3"
    },
    "language_info": {
      "name": "python"
    }
  },
  "cells": [
    {
      "cell_type": "markdown",
      "source": [
        "# Experiments\n",
        "\n"
      ],
      "metadata": {
        "id": "qupNia_0VOMG"
      }
    },
    {
      "cell_type": "markdown",
      "source": [
        "## Overlapping n-grams"
      ],
      "metadata": {
        "id": "HgtNqOEBYSTS"
      }
    },
    {
      "cell_type": "markdown",
      "source": [
        "### 4-gram"
      ],
      "metadata": {
        "id": "ajrcpT83YxxD"
      }
    },
    {
      "cell_type": "code",
      "source": [
        "from src.utils.loader import prepare_dataset\n",
        "from src.models.overlapping_ngrams import OverlappigNGrams\n",
        "from src.utils.eval import bacor_eval\n",
        "\n",
        "# Get Data\n",
        "X, y = prepare_dataset()\n",
        "# Init model\n",
        "model = OverlappigNGrams(4)\n",
        "# Train and Fit model\n",
        "final_segmentation = model.predict_segments(X)\n",
        "# Evaluate model\n",
        "X_train, y_train = final_segmentation[:9706], y[:9706]\n",
        "X_test, y_test = final_segmentation[9706:], y[9706:]\n",
        "scores, important_melodies = bacor_eval(X_train, y_train, X_test, y_test)"
      ],
      "metadata": {
        "colab": {
          "base_uri": "https://localhost:8080/"
        },
        "id": "BVKscbaxM74a",
        "outputId": "f8367f33-1d32-4bf5-c1ea-7b672425000c"
      },
      "execution_count": 1,
      "outputs": [
        {
          "output_type": "stream",
          "name": "stderr",
          "text": [
            "INFO:root:Number of train chants: 9706\n",
            "INFO:root:Number of test chants: 4159\n",
            "INFO:root:The SVC model was trained with 9706 training data and 4159 testing data.\n",
            "INFO:root:Train scores \n",
            "\t Precision: 0.9847490815155824 \n",
            "\t Recall: 0.9847516999793942 \n",
            "\t F1: 0.9847180852683995 \n",
            "\t Accuracy: 0.9847516999793942\n",
            "INFO:root:Test scores \n",
            "\t Precision: 0.9535364162140607 \n",
            "\t Recall: 0.9533541716758837 \n",
            "\t F1: 0.9531447927275498 \n",
            "\t Accuracy: 0.9533541716758837\n"
          ]
        },
        {
          "output_type": "stream",
          "name": "stdout",
          "text": [
            "(9706, 5000)\n",
            "(9706, 100)\n"
          ]
        },
        {
          "output_type": "stream",
          "name": "stderr",
          "text": [
            "INFO:root:Top selected melodies: ['Ccdc', 'Cffe', 'Cghk', 'Dddd', 'Cdff', 'Bbcd', 'Cdge', 'Cdhh', 'Cfgi', 'Cefe', 'Ccde', 'Ddde', 'Cfgh', 'Bfgh', 'Cfed', 'DdfE', 'Ddcf', 'Ddfg', 'Cddg', 'Bfgf', '9bcd', 'Ddcd', 'Cfhh', 'Ccfg', 'Ddfh', 'Cceg', 'Ddfe', 'DddC', 'Ccff', 'Cedd', 'Dddf', 'Cddd', 'Ddff', 'Bdfd', 'Dccc', 'Bedf', 'Dcde', 'Ccfe', 'Cdee', 'Ccdd', 'Cccd', 'Ddeg', 'CdfE', 'Cdcc', '9cdc', 'Cacd', 'Cddc', 'Ddcb', 'Cdfe', '9cdf', 'Ccef', 'Bdcc', 'Cddf', 'Dcce', '9ccd', 'CfgH', 'Cfhg', 'Cefg', 'Acdd', '9acd', 'Dcdd', 'Bcdd', 'Ddac', 'Dcdc', 'Bcde', 'CcgF', 'Cdfd', 'Cdef', 'Bacd', 'CcdE', 'Cfge', 'Cfgg', 'Cdce', 'Cfff', '9cdd', 'Cccc', 'Ddfd', 'Dded', 'BcDd', 'Cfef', 'Cefd', 'Dceg', 'Ddcc', 'Dbde', 'Cdcd', 'Bcdf', 'Bacc', 'Cdde', 'Cded', 'Cfgf', 'Dddc', 'Dddg', 'Ddef', 'Cdfg', '9cde', 'Dddh', 'Ddee', 'Acdf', 'Cffg', 'Ccdf']\n"
          ]
        }
      ]
    },
    {
      "cell_type": "markdown",
      "source": [
        "### 5-gram"
      ],
      "metadata": {
        "id": "lwJEjU5EY3Ht"
      }
    },
    {
      "cell_type": "code",
      "source": [
        "from src.utils.loader import prepare_dataset\n",
        "from src.models.overlapping_ngrams import OverlappigNGrams\n",
        "from src.utils.eval import bacor_eval\n",
        "\n",
        "# Get Data\n",
        "X, y = prepare_dataset()\n",
        "# Init model\n",
        "model = OverlappigNGrams(5)\n",
        "# Train and Fit model\n",
        "final_segmentation = model.predict_segments(X)\n",
        "# Evaluate model\n",
        "X_train, y_train = final_segmentation[:9706], y[:9706]\n",
        "X_test, y_test = final_segmentation[9706:], y[9706:]\n",
        "scores, important_melodies = bacor_eval(X_train, y_train, X_test, y_test)"
      ],
      "metadata": {
        "colab": {
          "base_uri": "https://localhost:8080/"
        },
        "id": "7vV5IqcEY5vo",
        "outputId": "146bcba5-792b-4f1c-a57a-9c61bda4ff52"
      },
      "execution_count": 2,
      "outputs": [
        {
          "output_type": "stream",
          "name": "stderr",
          "text": [
            "INFO:root:Number of train chants: 9706\n",
            "INFO:root:Number of test chants: 4159\n",
            "INFO:root:The SVC model was trained with 9706 training data and 4159 testing data.\n",
            "INFO:root:Train scores \n",
            "\t Precision: 0.9881639755383582 \n",
            "\t Recall: 0.9881516587677726 \n",
            "\t F1: 0.9881269713591746 \n",
            "\t Accuracy: 0.9881516587677726\n",
            "INFO:root:Test scores \n",
            "\t Precision: 0.9581980421593506 \n",
            "\t Recall: 0.9579225775426785 \n",
            "\t F1: 0.957679758439607 \n",
            "\t Accuracy: 0.9579225775426785\n"
          ]
        },
        {
          "output_type": "stream",
          "name": "stdout",
          "text": [
            "(9706, 5000)\n",
            "(9706, 100)\n"
          ]
        },
        {
          "output_type": "stream",
          "name": "stderr",
          "text": [
            "INFO:root:Top selected melodies: ['Eefgg', 'Edcdd', 'Feehg', 'Defgh', 'Edfgh', 'Edccc', 'Edcfg', 'Dfggh', 'Eddcd', 'Eddfg', 'Ddddd', 'Ccdef', 'Cdfdd', 'Ccfff', 'Ecddd', 'Eddff', 'Feekk', 'Ddcdf', 'Edeee', 'Dcddd', 'Cfghg', 'Fefgg', 'Edccd', 'Dghgf', 'Eedef', 'Dddcd', 'Eghhg', 'Eddhh', 'Efgef', 'Fefed', 'Edefg', 'Edddg', 'Ddfdc', 'Efghf', 'Efgff', 'Cccdf', 'Cdfed', 'Fefgh', 'Eghfe', 'Edfdc', 'Edfdd', 'Cdeee', 'Cfgfg', 'Cfghh', 'Eddef', 'Edddf', 'Ddccd', 'Fdeee', 'Cefgf', 'Dfghg', 'Fefgf', 'Edddh', 'Efggg', 'Edcdf', 'Ddfed', 'Efgfe', 'Ccddd', 'Edffe', 'Ddcdd', 'Dffgh', 'Eddfd', 'Ddddf', 'Dfggg', 'Dfedd', 'Cfgfh', 'Edfef', 'Edfed', 'Fdefg', 'Ddeee', 'Ffedc', 'Dddhh', 'Ddfgh', 'Dghkk', 'Eddcf', 'Dcdde', 'Efgfd', 'Egfed', 'Dedcd', 'Edeed', 'Edcde', 'Ccdff', 'Efggf', 'Dghgh', 'Eghgf', 'Ddefg', 'Defgg', 'Ddddc', 'Efggh', 'Edfff', 'Dddfd', 'Fedfe', 'Eefgh', 'Dddff', 'Eefgf', 'Dfefg', 'Ededc', 'Dddef', 'Fdcdd', 'Efghg', 'Edddd']\n"
          ]
        }
      ]
    },
    {
      "cell_type": "markdown",
      "source": [
        "### 6-gram"
      ],
      "metadata": {
        "id": "G_hc4gHnY9L-"
      }
    },
    {
      "cell_type": "code",
      "source": [
        "from src.utils.loader import prepare_dataset\n",
        "from src.models.overlapping_ngrams import OverlappigNGrams\n",
        "from src.utils.eval import bacor_eval\n",
        "\n",
        "# Get Data\n",
        "X, y = prepare_dataset()\n",
        "# Init model\n",
        "model = OverlappigNGrams(6)\n",
        "# Train and Fit model\n",
        "final_segmentation = model.predict_segments(X)\n",
        "# Evaluate model\n",
        "X_train, y_train = final_segmentation[:9706], y[:9706]\n",
        "X_test, y_test = final_segmentation[9706:], y[9706:]\n",
        "scores, important_melodies = bacor_eval(X_train, y_train, X_test, y_test)"
      ],
      "metadata": {
        "colab": {
          "base_uri": "https://localhost:8080/"
        },
        "id": "lqmoICyUY-MF",
        "outputId": "c70aea59-83b1-4a0e-ebc8-1ef66ed5448a"
      },
      "execution_count": 3,
      "outputs": [
        {
          "output_type": "stream",
          "name": "stderr",
          "text": [
            "INFO:root:Number of train chants: 9706\n",
            "INFO:root:Number of test chants: 4159\n",
            "INFO:root:The SVC model was trained with 9706 training data and 4159 testing data.\n",
            "INFO:root:Train scores \n",
            "\t Precision: 0.9906456529410815 \n",
            "\t Recall: 0.9906243560684113 \n",
            "\t F1: 0.990612936420346 \n",
            "\t Accuracy: 0.9906243560684113\n",
            "INFO:root:Test scores \n",
            "\t Precision: 0.9560364577983814 \n",
            "\t Recall: 0.955758595816302 \n",
            "\t F1: 0.9554501148502357 \n",
            "\t Accuracy: 0.955758595816302\n"
          ]
        },
        {
          "output_type": "stream",
          "name": "stdout",
          "text": [
            "(9706, 5000)\n",
            "(9706, 100)\n"
          ]
        },
        {
          "output_type": "stream",
          "name": "stderr",
          "text": [
            "INFO:root:Top selected melodies: ['Fgghgf', 'Efgggk', 'Khggll', 'cdcdfe', 'Jhgfgh', 'Edcddh', 'cacddd', 'cacdfe', 'cdccdf', 'caccdd', 'Fffghh', 'ccdffd', 'Eddhhg', 'Jkllll', 'cdcfgh', 'Ghgfgh', 'cdcddd', 'ccddff', 'acdddf', 'Eddfff', 'Eddfgh', 'Gggkkj', 'Efgfed', 'ccdefg', 'Edcdef', 'Ghgefg', 'ccdffg', 'cccdef', 'cdFffe', 'Ffghfe', 'Kkjhgh', 'cDddcd', 'cddcac', 'Feekkk', 'Ededcd', 'Hhggkk', 'Gfedee', 'acddcd', 'cccdfg', 'Cdfedd', 'ccdfed', 'Feehgh', 'Edefgf', 'cccdff', 'Ghkhgg', 'Cfghgf', 'Edcddd', 'Fghgfe', 'Edcdfe', 'acdfec', 'Cfghhg', 'Eddhhh', 'Ededcc', 'Efgggg', 'cdcdff', 'Fgghff', 'cddcdd', 'ccddcd', 'Jhghgf', 'Gggghg', 'Dddcdf', 'Fghhgg', 'cdcdfg', 'Kkjklk', 'ccdddc', 'ccdfgh', 'Edefgh', 'ccdffe', 'Kkkjhk', 'cddacd', 'Edfdcd', 'Ghjhgg', 'Ffghhg', 'Edcdff', 'Fghgff', 'Ffhhfg', 'Cfghgh', 'Cfgfgh', 'Fghgfg', 'cacddc', 'ccddfd', 'cdcdcf', 'ccdfff', 'Eddcdf', 'cacddf', 'Ggfghh', 'ccdfgf', 'ccdfge', 'Fefghh', 'cddccd', 'Ffedcd', 'Ggfghg', 'ccdddd', 'Fghfed', 'Gghgfg', 'ccdddf', 'Cfgfhh', 'Fefggf', 'Fgghge', 'ccdfef']\n"
          ]
        }
      ]
    },
    {
      "cell_type": "markdown",
      "source": [
        "## Naive Statistic Model"
      ],
      "metadata": {
        "id": "7vBZW47XZGyC"
      }
    },
    {
      "cell_type": "code",
      "source": [
        "from src.utils.loader import prepare_dataset\n",
        "from src.models.naive_statistic_model import NaiveStatisticModel\n",
        "from src.utils.eval import bacor_eval\n",
        "\n",
        "# Get Data\n",
        "X, y = prepare_dataset()\n",
        "# Init model\n",
        "model = NaiveStatisticModel()\n",
        "# Train and Fit model\n",
        "final_segmentation = model.predict_segments(X)\n",
        "# Evaluate model\n",
        "X_train, y_train = final_segmentation[:9706], y[:9706]\n",
        "X_test, y_test = final_segmentation[9706:], y[9706:]\n",
        "scores, important_melodies = bacor_eval(X_train, y_train, X_test, y_test)"
      ],
      "metadata": {
        "colab": {
          "base_uri": "https://localhost:8080/"
        },
        "id": "Z38re_fCUUXT",
        "outputId": "41e99f28-9af1-4558-d779-e16a05915a10"
      },
      "execution_count": null,
      "outputs": [
        {
          "output_type": "stream",
          "name": "stderr",
          "text": [
            "INFO:root:Number of train chants: 9706\n",
            "INFO:root:Number of test chants: 4159\n"
          ]
        },
        {
          "output_type": "stream",
          "name": "stdout",
          "text": [
            "0. Iteration\n",
            "\t\t\t ['fghg', 'hgf', 'hg', 'fed', 'fgh', 'ghg', 'ghgf', 'hgh', 'gf', 'hgg', 'gg', 'gh', 'fg', 'gfg', 'hgfg', 'g', 'gfgh', 'f', 'hhg', 'ff', 'gkkjkhg', 'kkk', 'k', 'gfe', 'kk', 'hh', 'dd', 'd', 'hgfghg', 'efg']\n",
            "1. Iteration\n",
            "\t\t\t ['kkk', 'ddcfgfghh', 'ggkhhgfg', 'fg', 'gh', 'k', 'g', 'dcdefg', 'f', 'ghg', 'fed', 'ggkhg', 'fghh', 'ggkhgh', 'gg', 'hg', 'ggg', 'e', 'hh', 'edcd', 'hgh', 'efg', 'ddcfg', 'dddcfgfg', 'hgf', 'ghgf', 'gfg', 'ghkk', 'ghgfg', 'dddcfg']\n",
            "2. Iteration\n",
            "\t\t\t ['ggkhhgfg', 'ddcfgfghh', 'gjklll', 'ljlml', 'dddcfgfg', 'ddcfgf', 'dddcfg', 'ggkhg', 'ddcfg', 'dddCfgfg', 'ggkhgfg', 'ggkhhgfgh', 'llljlml', 'ddcfgfghhh', 'kkk', 'dddCfgf', 'ddcfgfgh', 'ddcdf', 'dcdefg', 'ggkhgh', 'ggkhgfgh', 'dddcfgfgh', 'ggkhghgfghg', 'dddcfgfghh', 'ggkhhgfghgg', 'ddcdefgfedd', 'ghkk', 'gggkk', 'kkkj', 'fghh']\n"
          ]
        }
      ]
    }
  ]
}