{
  "nbformat": 4,
  "nbformat_minor": 0,
  "metadata": {
    "colab": {
      "provenance": [],
      "collapsed_sections": [
        "1oTv2wlZjslW"
      ]
    },
    "kernelspec": {
      "name": "python3",
      "display_name": "Python 3"
    },
    "language_info": {
      "name": "python"
    }
  },
  "cells": [
    {
      "cell_type": "markdown",
      "source": [
        "# Set up"
      ],
      "metadata": {
        "id": "Hkq8_AtGinO_"
      }
    },
    {
      "cell_type": "code",
      "source": [
        "!pip install gitpython arpeggio"
      ],
      "metadata": {
        "colab": {
          "base_uri": "https://localhost:8080/"
        },
        "id": "J88_34R5H0oc",
        "outputId": "b36a620d-1615-45e8-cc56-899300047506"
      },
      "execution_count": 1,
      "outputs": [
        {
          "output_type": "stream",
          "name": "stdout",
          "text": [
            "Looking in indexes: https://pypi.org/simple, https://us-python.pkg.dev/colab-wheels/public/simple/\n",
            "Collecting gitpython\n",
            "  Downloading GitPython-3.1.31-py3-none-any.whl (184 kB)\n",
            "\u001b[2K     \u001b[90m━━━━━━━━━━━━━━━━━━━━━━━━━━━━━━━━━━━━━━━\u001b[0m \u001b[32m184.3/184.3 kB\u001b[0m \u001b[31m4.7 MB/s\u001b[0m eta \u001b[36m0:00:00\u001b[0m\n",
            "\u001b[?25hCollecting arpeggio\n",
            "  Downloading Arpeggio-2.0.0-py2.py3-none-any.whl (54 kB)\n",
            "\u001b[2K     \u001b[90m━━━━━━━━━━━━━━━━━━━━━━━━━━━━━━━━━━━━━━━━\u001b[0m \u001b[32m55.0/55.0 kB\u001b[0m \u001b[31m5.3 MB/s\u001b[0m eta \u001b[36m0:00:00\u001b[0m\n",
            "\u001b[?25hCollecting gitdb<5,>=4.0.1 (from gitpython)\n",
            "  Downloading gitdb-4.0.10-py3-none-any.whl (62 kB)\n",
            "\u001b[2K     \u001b[90m━━━━━━━━━━━━━━━━━━━━━━━━━━━━━━━━━━━━━━━━\u001b[0m \u001b[32m62.7/62.7 kB\u001b[0m \u001b[31m6.7 MB/s\u001b[0m eta \u001b[36m0:00:00\u001b[0m\n",
            "\u001b[?25hCollecting smmap<6,>=3.0.1 (from gitdb<5,>=4.0.1->gitpython)\n",
            "  Downloading smmap-5.0.0-py3-none-any.whl (24 kB)\n",
            "Installing collected packages: arpeggio, smmap, gitdb, gitpython\n",
            "Successfully installed arpeggio-2.0.0 gitdb-4.0.10 gitpython-3.1.31 smmap-5.0.0\n"
          ]
        }
      ]
    },
    {
      "cell_type": "code",
      "execution_count": 2,
      "metadata": {
        "id": "FyyRFdeDG5Pc"
      },
      "outputs": [],
      "source": [
        "from src.utils.importers import download_gabc2volpiano\n",
        "download_gabc2volpiano()"
      ]
    },
    {
      "cell_type": "markdown",
      "source": [
        "# Generate Antiphone Phrases from Gregobase"
      ],
      "metadata": {
        "id": "IisQhUi0jnyi"
      }
    },
    {
      "cell_type": "code",
      "source": [
        "from src.utils.data_preparation import convert_gabc_to_chantstring_csv\n",
        "convert_gabc_to_chantstring_csv(gabc_csv_file = \"gabc-chants.csv\", \n",
        "                                chant_strings_file = \"gregobase-chantstrings-an.csv\", \n",
        "                                genre = \"an\")"
      ],
      "metadata": {
        "colab": {
          "base_uri": "https://localhost:8080/"
        },
        "id": "gxDUW0wdIGh5",
        "outputId": "df4aaf25-785a-42ed-e79b-3e5e248ccf41"
      },
      "execution_count": 3,
      "outputs": [
        {
          "output_type": "stream",
          "name": "stdout",
          "text": [
            "There was a converter error. Volpiano has no flat at MIDI key 67. Is there a flat at the wrong line?\n",
            "There was a converter error. Chant has no melody..\n",
            "There was a converter error. Volpiano has no flat at MIDI key 67. Is there a flat at the wrong line?\n",
            "There was a converter error. Volpiano has no flat at MIDI key 67. Is there a flat at the wrong line?\n",
            "There was a converter error. Cannot determine the pitch of notes without clef\n",
            "There was a converter error. Volpiano has no flat at MIDI key 67. Is there a flat at the wrong line?\n",
            "There was a converter error. Cannot determine the pitch of notes without clef\n",
            "There was a converter error. Chant has no melody..\n",
            "There was a converter error. Volpiano has no flat at MIDI key 70. Is there a flat at the wrong line?\n",
            "There was a converter error. Chant has no melody..\n",
            "There was a converter error. Volpiano has no flat at MIDI key 69. Is there a flat at the wrong line?\n",
            "There was a converter error. Volpiano has no flat at MIDI key 74. Is there a flat at the wrong line?\n",
            "There was a converter error. Volpiano has no flat at MIDI key 74. Is there a flat at the wrong line?\n",
            "There was a converter error. Volpiano has no flat at MIDI key 53. Is there a flat at the wrong line?\n",
            "There was a converter error. Volpiano has no flat at MIDI key 74. Is there a flat at the wrong line?\n",
            "There was a converter error. Parse tree is empty. You did call parse(), didn't you?\n",
            "Phrased chant's mode distribution:  {'2': 282, '4': 356, '6': 175, '7': 533, '8': 944, '3': 250, '1': 933, '5': 147, nan: 164, 'p': 7, 'd': 4, '0': 1, 'e': 6}\n"
          ]
        }
      ]
    },
    {
      "cell_type": "markdown",
      "source": [
        "# Generate Responsoria Phrases from Gregobase"
      ],
      "metadata": {
        "id": "1oTv2wlZjslW"
      }
    },
    {
      "cell_type": "code",
      "source": [
        "from src.utils.data_preparation import convert_gabc_to_chantstring_csv\n",
        "convert_gabc_to_chantstring_csv(gabc_csv_file = \"gabc-chants.csv\", \n",
        "                                chant_strings_file = \"gregobase-chantstrings-re.csv\", \n",
        "                                genre = \"re\")"
      ],
      "metadata": {
        "colab": {
          "base_uri": "https://localhost:8080/"
        },
        "id": "pwX4_DYljvqm",
        "outputId": "8bc2c3db-1c6f-4d9b-aec8-b6ffae3f168f"
      },
      "execution_count": 4,
      "outputs": [
        {
          "output_type": "stream",
          "name": "stdout",
          "text": [
            "There was a converter error. Parse tree is empty. You did call parse(), didn't you?\n",
            "There was a converter error. Volpiano has no flat at MIDI key 67. Is there a flat at the wrong line?\n",
            "There was a converter error. Volpiano has no flat at MIDI key 67. Is there a flat at the wrong line?\n",
            "There was a converter error. Cannot determine the pitch of notes without clef\n",
            "There was a converter error. Parse tree is empty. You did call parse(), didn't you?\n",
            "There was a converter error. Cannot determine the pitch of notes without clef\n",
            "Phrased chant's mode distribution:  {'2': 62, '1': 71, nan: 125, '4': 23, '8': 40, '6': 65, '3': 27, '5': 50, '7': 32}\n"
          ]
        }
      ]
    }
  ]
}