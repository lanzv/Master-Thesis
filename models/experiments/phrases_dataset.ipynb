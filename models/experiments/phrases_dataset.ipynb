{
  "nbformat": 4,
  "nbformat_minor": 0,
  "metadata": {
    "colab": {
      "provenance": [],
      "collapsed_sections": [
        "1oTv2wlZjslW"
      ]
    },
    "kernelspec": {
      "name": "python3",
      "display_name": "Python 3"
    },
    "language_info": {
      "name": "python"
    }
  },
  "cells": [
    {
      "cell_type": "markdown",
      "source": [
        "# Set up"
      ],
      "metadata": {
        "id": "Hkq8_AtGinO_"
      }
    },
    {
      "cell_type": "code",
      "source": [
        "!pip install gitpython arpeggio"
      ],
      "metadata": {
        "colab": {
          "base_uri": "https://localhost:8080/"
        },
        "id": "J88_34R5H0oc",
        "outputId": "74d636f4-1b00-44be-9b4b-dd71e94c39d0"
      },
      "execution_count": 1,
      "outputs": [
        {
          "output_type": "stream",
          "name": "stdout",
          "text": [
            "Looking in indexes: https://pypi.org/simple, https://us-python.pkg.dev/colab-wheels/public/simple/\n",
            "Requirement already satisfied: gitpython in /usr/local/lib/python3.10/dist-packages (3.1.31)\n",
            "Requirement already satisfied: arpeggio in /usr/local/lib/python3.10/dist-packages (2.0.0)\n",
            "Requirement already satisfied: gitdb<5,>=4.0.1 in /usr/local/lib/python3.10/dist-packages (from gitpython) (4.0.10)\n",
            "Requirement already satisfied: smmap<6,>=3.0.1 in /usr/local/lib/python3.10/dist-packages (from gitdb<5,>=4.0.1->gitpython) (5.0.0)\n"
          ]
        }
      ]
    },
    {
      "cell_type": "code",
      "execution_count": 2,
      "metadata": {
        "id": "FyyRFdeDG5Pc"
      },
      "outputs": [],
      "source": [
        "from src.utils.importers import download_gabc2volpiano\n",
        "download_gabc2volpiano()"
      ]
    },
    {
      "cell_type": "markdown",
      "source": [
        "# Generate Antiphone Phrases from Gregobase"
      ],
      "metadata": {
        "id": "IisQhUi0jnyi"
      }
    },
    {
      "cell_type": "code",
      "source": [
        "from src.utils.data_preparation import convert_gabc_to_chantstring_csv\n",
        "convert_gabc_to_chantstring_csv(gabc_csv_file = \"gabc-chants.csv\", \n",
        "                                chant_strings_file = \"gregobase-chantstrings-an.csv\", \n",
        "                                genre = \"an\")"
      ],
      "metadata": {
        "colab": {
          "base_uri": "https://localhost:8080/"
        },
        "id": "gxDUW0wdIGh5",
        "outputId": "761fcf28-0ba5-4cf8-81cb-b93527805fa7"
      },
      "execution_count": null,
      "outputs": [
        {
          "output_type": "stream",
          "name": "stdout",
          "text": [
            "There was a converter error. Volpiano has no flat at MIDI key 67. Is there a flat at the wrong line?\n",
            "There was a converter error. Chant has no melody..\n",
            "There was a converter error. Volpiano has no flat at MIDI key 67. Is there a flat at the wrong line?\n",
            "There was a converter error. Volpiano has no flat at MIDI key 67. Is there a flat at the wrong line?\n",
            "There was a converter error. Cannot determine the pitch of notes without clef\n",
            "There was a converter error. Volpiano has no flat at MIDI key 67. Is there a flat at the wrong line?\n",
            "There was a converter error. Cannot determine the pitch of notes without clef\n",
            "There was a converter error. Chant has no melody..\n",
            "There was a converter error. Volpiano has no flat at MIDI key 70. Is there a flat at the wrong line?\n",
            "There was a converter error. Chant has no melody..\n",
            "There was a converter error. Volpiano has no flat at MIDI key 69. Is there a flat at the wrong line?\n",
            "There was a converter error. Volpiano has no flat at MIDI key 74. Is there a flat at the wrong line?\n",
            "There was a converter error. Volpiano has no flat at MIDI key 74. Is there a flat at the wrong line?\n",
            "There was a converter error. Volpiano has no flat at MIDI key 53. Is there a flat at the wrong line?\n",
            "There was a converter error. Volpiano has no flat at MIDI key 74. Is there a flat at the wrong line?\n",
            "There was a converter error. Parse tree is empty. You did call parse(), didn't you?\n"
          ]
        }
      ]
    },
    {
      "cell_type": "markdown",
      "source": [
        "# Generate Responsoria Phrases from Gregobase"
      ],
      "metadata": {
        "id": "1oTv2wlZjslW"
      }
    },
    {
      "cell_type": "code",
      "source": [
        "from src.utils.data_preparation import convert_gabc_to_chantstring_csv\n",
        "convert_gabc_to_chantstring_csv(gabc_csv_file = \"gabc-chants.csv\", \n",
        "                                chant_strings_file = \"gregobase-chantstrings-re.csv\", \n",
        "                                genre = \"re\")"
      ],
      "metadata": {
        "colab": {
          "base_uri": "https://localhost:8080/"
        },
        "id": "pwX4_DYljvqm",
        "outputId": "1d686ab5-7c60-450c-f3ac-2746b408e91f"
      },
      "execution_count": null,
      "outputs": [
        {
          "output_type": "stream",
          "name": "stdout",
          "text": [
            "There was a converter error. Parse tree is empty. You did call parse(), didn't you?\n",
            "There was a converter error. Volpiano has no flat at MIDI key 67. Is there a flat at the wrong line?\n",
            "There was a converter error. Volpiano has no flat at MIDI key 67. Is there a flat at the wrong line?\n",
            "There was a converter error. Cannot determine the pitch of notes without clef\n",
            "There was a converter error. Parse tree is empty. You did call parse(), didn't you?\n",
            "There was a converter error. Cannot determine the pitch of notes without clef\n"
          ]
        }
      ]
    },
    {
      "cell_type": "markdown",
      "source": [
        "# Generate Antiphons without 4 (differentia) Phrases from Gregobase"
      ],
      "metadata": {
        "id": "0ywnBQgK_8Jz"
      }
    },
    {
      "cell_type": "code",
      "source": [
        "from src.utils.data_preparation import convert_gabc_to_chantstring_csv\n",
        "convert_gabc_to_chantstring_csv(gabc_csv_file = \"gabc-chants.csv\", \n",
        "                                chant_strings_file = \"gregobase-chantstrings-an_no4.csv\", \n",
        "                                genre = \"an\",\n",
        "                                no_differentia = True)"
      ],
      "metadata": {
        "colab": {
          "base_uri": "https://localhost:8080/"
        },
        "id": "_U836yjIBb1a",
        "outputId": "5aa25053-87f1-4e09-b039-1a8564503634"
      },
      "execution_count": 2,
      "outputs": [
        {
          "output_type": "stream",
          "name": "stdout",
          "text": [
            "There was a converter error. Volpiano has no flat at MIDI key 67. Is there a flat at the wrong line?\n",
            "There was a converter error. Chant has no melody..\n",
            "There was a converter error. Volpiano has no flat at MIDI key 67. Is there a flat at the wrong line?\n",
            "There was a converter error. Volpiano has no flat at MIDI key 67. Is there a flat at the wrong line?\n",
            "There was a converter error. Cannot determine the pitch of notes without clef\n",
            "There was a converter error. Volpiano has no flat at MIDI key 67. Is there a flat at the wrong line?\n",
            "There was a converter error. Cannot determine the pitch of notes without clef\n",
            "There was a converter error. Chant has no melody..\n",
            "There was a converter error. Volpiano has no flat at MIDI key 70. Is there a flat at the wrong line?\n",
            "There was a converter error. Chant has no melody..\n",
            "There was a converter error. Volpiano has no flat at MIDI key 69. Is there a flat at the wrong line?\n",
            "There was a converter error. Volpiano has no flat at MIDI key 74. Is there a flat at the wrong line?\n",
            "There was a converter error. Volpiano has no flat at MIDI key 74. Is there a flat at the wrong line?\n",
            "There was a converter error. Volpiano has no flat at MIDI key 53. Is there a flat at the wrong line?\n",
            "There was a converter error. Volpiano has no flat at MIDI key 74. Is there a flat at the wrong line?\n",
            "There was a converter error. Parse tree is empty. You did call parse(), didn't you?\n"
          ]
        }
      ]
    }
  ]
}