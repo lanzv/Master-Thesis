{
  "nbformat": 4,
  "nbformat_minor": 0,
  "metadata": {
    "colab": {
      "provenance": []
    },
    "kernelspec": {
      "name": "python3",
      "display_name": "Python 3"
    },
    "language_info": {
      "name": "python"
    }
  },
  "cells": [
    {
      "cell_type": "code",
      "source": [
        "!pip install gitpython arpeggio"
      ],
      "metadata": {
        "colab": {
          "base_uri": "https://localhost:8080/"
        },
        "id": "J88_34R5H0oc",
        "outputId": "af559e6e-4305-40a1-8910-25674efd3ec7"
      },
      "execution_count": 1,
      "outputs": [
        {
          "output_type": "stream",
          "name": "stdout",
          "text": [
            "Looking in indexes: https://pypi.org/simple, https://us-python.pkg.dev/colab-wheels/public/simple/\n",
            "Requirement already satisfied: gitpython in /usr/local/lib/python3.9/dist-packages (3.1.31)\n",
            "Requirement already satisfied: arpeggio in /usr/local/lib/python3.9/dist-packages (2.0.0)\n",
            "Requirement already satisfied: gitdb<5,>=4.0.1 in /usr/local/lib/python3.9/dist-packages (from gitpython) (4.0.10)\n",
            "Requirement already satisfied: smmap<6,>=3.0.1 in /usr/local/lib/python3.9/dist-packages (from gitdb<5,>=4.0.1->gitpython) (5.0.0)\n"
          ]
        }
      ]
    },
    {
      "cell_type": "code",
      "execution_count": 2,
      "metadata": {
        "id": "FyyRFdeDG5Pc"
      },
      "outputs": [],
      "source": [
        "from src.utils.importers import download_gabc2volpiano\n",
        "download_gabc2volpiano()"
      ]
    },
    {
      "cell_type": "code",
      "source": [
        "from src.utils.data_preparation import convert_gabc_to_chantstring_csv\n",
        "convert_gabc_to_chantstring_csv()"
      ],
      "metadata": {
        "colab": {
          "base_uri": "https://localhost:8080/"
        },
        "id": "gxDUW0wdIGh5",
        "outputId": "82991747-e52b-4e1e-850e-499952910625"
      },
      "execution_count": 3,
      "outputs": [
        {
          "output_type": "stream",
          "name": "stdout",
          "text": [
            "There was a converter error. Volpiano has no flat at MIDI key 74. Is there a flat at the wrong line?\n",
            "There was a converter error. string indices must be integers\n",
            "There was a converter error. Volpiano has no flat at MIDI key 74. Is there a flat at the wrong line?\n",
            "There was a converter error. Volpiano has no flat at MIDI key 72. Is there a flat at the wrong line?\n",
            "There was a converter error. Volpiano has no flat at MIDI key 67. Is there a flat at the wrong line?\n",
            "There was a converter error. Volpiano has no flat at MIDI key 74. Is there a flat at the wrong line?\n",
            "There was a converter error. Volpiano has no flat at MIDI key 74. Is there a flat at the wrong line?\n",
            "There was a converter error. Volpiano has no flat at MIDI key 74. Is there a flat at the wrong line?\n",
            "There was a converter error. Volpiano has no flat at MIDI key 74. Is there a flat at the wrong line?\n",
            "There was a converter error. Cannot determine the pitch of notes without clef\n",
            "There was a converter error. Cannot determine the pitch of notes without clef\n",
            "There was a converter error. Volpiano has no flat at MIDI key 67. Is there a flat at the wrong line?\n",
            "There was a converter error. Volpiano has no flat at MIDI key 67. Is there a flat at the wrong line?\n",
            "There was a converter error. Volpiano has no flat at MIDI key 74. Is there a flat at the wrong line?\n",
            "There was a converter error. Volpiano has no flat at MIDI key 67. Is there a flat at the wrong line?\n",
            "There was a converter error. Volpiano has no flat at MIDI key 74. Is there a flat at the wrong line?\n",
            "There was a converter error. Volpiano has no flat at MIDI key 67. Is there a flat at the wrong line?\n",
            "There was a converter error. Volpiano has no flat at MIDI key 67. Is there a flat at the wrong line?\n",
            "There was a converter error. Parse tree is empty. You did call parse(), didn't you?\n",
            "There was a converter error. expected string or bytes-like object\n",
            "There was a converter error. Cannot determine the pitch of notes without clef\n",
            "There was a converter error. Cannot determine the pitch of notes without clef\n",
            "There was a converter error. Volpiano has no flat at MIDI key 67. Is there a flat at the wrong line?\n",
            "There was a converter error. Volpiano has no flat at MIDI key 67. Is there a flat at the wrong line?\n",
            "There was a converter error. Volpiano has no flat at MIDI key 67. Is there a flat at the wrong line?\n",
            "There was a converter error. Cannot determine the pitch of notes without clef\n",
            "There was a converter error. Volpiano has no flat at MIDI key 67. Is there a flat at the wrong line?\n",
            "There was a converter error. Volpiano has no flat at MIDI key 67. Is there a flat at the wrong line?\n",
            "There was a converter error. Volpiano has no flat at MIDI key 74. Is there a flat at the wrong line?\n",
            "There was a converter error. Cannot determine the pitch of notes without clef\n",
            "There was a converter error. Cannot determine the pitch of notes without clef\n",
            "There was a converter error. Cannot determine the pitch of notes without clef\n",
            "There was a converter error. Volpiano has no flat at MIDI key 70. Is there a flat at the wrong line?\n",
            "There was a converter error. expected string or bytes-like object\n",
            "There was a converter error. expected string or bytes-like object\n",
            "There was a converter error. Volpiano has no flat at MIDI key 69. Is there a flat at the wrong line?\n",
            "There was a converter error. Parse tree is empty. You did call parse(), didn't you?\n",
            "There was a converter error. Volpiano has no flat at MIDI key 74. Is there a flat at the wrong line?\n",
            "There was a converter error. Parse tree is empty. You did call parse(), didn't you?\n",
            "There was a converter error. Volpiano has no flat at MIDI key 74. Is there a flat at the wrong line?\n",
            "There was a converter error. Volpiano has no flat at MIDI key 53. Is there a flat at the wrong line?\n",
            "There was a converter error. Parse tree is empty. You did call parse(), didn't you?\n",
            "There was a converter error. Volpiano has no flat at MIDI key 74. Is there a flat at the wrong line?\n",
            "There was a converter error. Cannot determine the pitch of notes without clef\n",
            "There was a converter error. Parse tree is empty. You did call parse(), didn't you?\n",
            "There was a converter error. expected string or bytes-like object\n",
            "There was a converter error. Cannot determine the pitch of notes without clef\n"
          ]
        }
      ]
    }
  ]
}