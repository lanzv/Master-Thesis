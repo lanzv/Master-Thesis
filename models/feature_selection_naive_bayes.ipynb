{
  "nbformat": 4,
  "nbformat_minor": 0,
  "metadata": {
    "colab": {
      "provenance": []
    },
    "kernelspec": {
      "name": "python3",
      "display_name": "Python 3"
    },
    "language_info": {
      "name": "python"
    }
  },
  "cells": [
    {
      "cell_type": "markdown",
      "source": [
        "# Feature Selection with Naive Bayes\n"
      ],
      "metadata": {
        "id": "qupNia_0VOMG"
      }
    },
    {
      "cell_type": "code",
      "execution_count": 248,
      "metadata": {
        "id": "Rnq_HGNVU_3u"
      },
      "outputs": [],
      "source": [
        "import os\n",
        "import pandas as pd\n",
        "import numpy as np \n",
        "def load_chants(test_chants_file = \"test-chants.csv\", \n",
        "                train_chants_file = \"train-chants.csv\",\n",
        "                test_repr_pitch_file = \"test-representation-pitch.csv\",\n",
        "                train_repr_pitch_file = \"train-representation-pitch.csv\"):\n",
        "    test_chants = pd.read_csv(test_chants_file, index_col='id')\n",
        "    train_chants = pd.read_csv(train_chants_file, index_col='id')\n",
        "    chants = pd.concat([train_chants, test_chants])\n",
        "    pitch_repr_test = pd.read_csv(test_repr_pitch_file, index_col='id')\n",
        "    pitch_repr_train = pd.read_csv(train_repr_pitch_file, index_col='id')\n",
        "    pitch_representations = pd.concat([pitch_repr_train, pitch_repr_test])\n",
        "\n",
        "    return chants, pitch_representations\n",
        "\n",
        "def prepare_dataset(representation_type = \"syllables\"):\n",
        "    chants, pitch_repr = load_chants()\n",
        "    X, y = [], []\n",
        "    for segments, mode, id_pitches, id_chant in zip(pitch_repr[representation_type], \n",
        "                                                chants['mode'], \n",
        "                                                pitch_repr.index, \n",
        "                                                chants.index):\n",
        "        if not id_pitches == id_chant:\n",
        "            raise ValueError(\"IDs of features and modes are not equal!\")\n",
        "        X.append(segments)\n",
        "        y.append(str(mode))\n",
        "\n",
        "    return np.array(X), np.array(y)"
      ]
    },
    {
      "cell_type": "code",
      "source": [
        "from sklearn.feature_extraction.text import TfidfTransformer\n",
        "from sklearn.feature_extraction.text import CountVectorizer\n",
        "from sklearn.metrics import accuracy_score, confusion_matrix, classification_report\n",
        "from sklearn.base import BaseEstimator, TransformerMixin\n",
        "from sklearn.naive_bayes import MultinomialNB\n",
        "from sklearn.pipeline import Pipeline\n",
        "import numpy as np\n",
        "import pandas as pd\n",
        "\n",
        "\n",
        "def convert_log_prob_to_df_prob(log_prob, class_names, feat_names):\n",
        "    # Transpose the class labels into the columns\n",
        "    prob_arr = np.array(log_prob)\n",
        "    prob_arr = np.transpose(prob_arr)\n",
        "\n",
        "    probs = pd.DataFrame(prob_arr, columns=class_names)\n",
        "    # Unlog by taking exponents\n",
        "    probs = probs.apply(np.exp)\n",
        "    # Add the feature names as the first column\n",
        "    probs['feature'] = feat_names\n",
        "    probs.set_index('feature', inplace=True)\n",
        "    return probs\n",
        "\n",
        "\n",
        "\n",
        "def print_feature_selections(X_prepared, y_prepared, treshhold = 0.1):\n",
        "    # Create the pandas DataFrame\n",
        "    y = pd.DataFrame(y_prepared, columns=[\"mode\"])\n",
        "    X = pd.DataFrame(X_prepared, columns=[\"segment\"])\n",
        "    X = X[\"segment\"]\n",
        "    # Pipeline\n",
        "    pipe = Pipeline([('count', CountVectorizer()),\n",
        "                    ('clf', MultinomialNB(alpha=0))])\n",
        "\n",
        "\n",
        "    result = pipe.fit(X, y)\n",
        "\n",
        "    feat_names = pipe['count'].get_feature_names_out()\n",
        "\n",
        "    probs = convert_log_prob_to_df_prob(pipe['clf'].feature_log_prob_, pipe['clf'].classes_, feat_names)\n",
        "    print(\"{:<10}   {}     {}     {}     {}     {}     {}     {}     {}\"\\\n",
        "          .format(\"Segment\", \"1\", \"2\", \"3\", \"4\", \"5\", \"6\", \"7\", \"8\"))\n",
        "    for f, mode1, mode2, mode3, mode4, mode5, mode6, mode7, mode8 in zip(probs.index, \n",
        "                                                                      probs[\"1\"], \n",
        "                                                                      probs[\"2\"], \n",
        "                                                                      probs[\"3\"], \n",
        "                                                                      probs[\"4\"], \n",
        "                                                                      probs[\"5\"], \n",
        "                                                                      probs[\"6\"], \n",
        "                                                                      probs[\"7\"], \n",
        "                                                                      probs[\"8\"]):\n",
        "\n",
        "        if mode1+mode2+mode3+mode4+mode5+mode6+mode7+mode8>treshhold:\n",
        "            print(\"{:<10}:  {:.3f} {:.3f} {:.3f} {:.3f} {:.3f} {:.3f} {:.3f} {:.3f}\"\\\n",
        "                  .format(f, mode1, mode2, mode3, mode4, mode5, mode6, mode7, mode8))"
      ],
      "metadata": {
        "id": "ceCnkJ-Kd4hb"
      },
      "execution_count": 249,
      "outputs": []
    },
    {
      "cell_type": "code",
      "source": [],
      "metadata": {
        "id": "I0jbwwvdC1Uf"
      },
      "execution_count": null,
      "outputs": []
    },
    {
      "cell_type": "code",
      "source": [],
      "metadata": {
        "id": "Ee-YLN2OC1h6"
      },
      "execution_count": null,
      "outputs": []
    },
    {
      "cell_type": "markdown",
      "source": [
        "### words"
      ],
      "metadata": {
        "id": "nlCH8z1azMqD"
      }
    },
    {
      "cell_type": "code",
      "source": [
        "X_prepared, y_prepared = prepare_dataset(\"words\")\n",
        "print_feature_selections(X_prepared, y_prepared)"
      ],
      "metadata": {
        "colab": {
          "base_uri": "https://localhost:8080/"
        },
        "id": "eXb4VD_UzRBE",
        "outputId": "be9240e8-505c-47ef-cce3-73d3a0601a54"
      },
      "execution_count": 250,
      "outputs": [
        {
          "output_type": "stream",
          "name": "stdout",
          "text": [
            "Segment      1     2     3     4     5     6     7     8\n",
            "ff        :  0.007 0.015 0.001 0.008 0.024 0.058 0.001 0.004\n",
            "gg        :  0.006 0.001 0.013 0.007 0.004 0.005 0.048 0.056\n",
            "gh        :  0.009 0.002 0.025 0.012 0.013 0.034 0.012 0.015\n",
            "hg        :  0.024 0.008 0.020 0.012 0.024 0.009 0.009 0.031\n"
          ]
        },
        {
          "output_type": "stream",
          "name": "stderr",
          "text": [
            "/usr/local/lib/python3.7/dist-packages/sklearn/utils/validation.py:993: DataConversionWarning: A column-vector y was passed when a 1d array was expected. Please change the shape of y to (n_samples, ), for example using ravel().\n",
            "  y = column_or_1d(y, warn=True)\n",
            "/usr/local/lib/python3.7/dist-packages/sklearn/naive_bayes.py:557: UserWarning: alpha too small will result in numeric errors, setting alpha = 1.0e-10\n",
            "  % _ALPHA_MIN\n"
          ]
        }
      ]
    },
    {
      "cell_type": "markdown",
      "source": [
        "### syllables"
      ],
      "metadata": {
        "id": "GXryQSuTzrwm"
      }
    },
    {
      "cell_type": "code",
      "source": [
        "X_prepared, y_prepared = prepare_dataset(\"syllables\")\n",
        "print_feature_selections(X_prepared, y_prepared)"
      ],
      "metadata": {
        "colab": {
          "base_uri": "https://localhost:8080/"
        },
        "id": "gm6LoIy-zuSr",
        "outputId": "2b6eb7d3-3f85-4443-8ce2-358ff6df23dc"
      },
      "execution_count": 251,
      "outputs": [
        {
          "output_type": "stream",
          "name": "stdout",
          "text": [
            "Segment      1     2     3     4     5     6     7     8\n",
            "cd        :  0.050 0.137 0.001 0.018 0.000 0.011 0.001 0.002\n",
            "dc        :  0.074 0.079 0.004 0.033 0.002 0.044 0.001 0.002\n",
            "de        :  0.011 0.026 0.025 0.077 0.001 0.004 0.000 0.001\n",
            "df        :  0.026 0.057 0.002 0.028 0.003 0.034 0.000 0.003\n",
            "ed        :  0.017 0.035 0.029 0.038 0.000 0.003 0.001 0.002\n",
            "ef        :  0.037 0.050 0.028 0.038 0.002 0.011 0.001 0.013\n",
            "fe        :  0.160 0.169 0.040 0.099 0.004 0.060 0.003 0.032\n",
            "fg        :  0.049 0.045 0.018 0.028 0.012 0.048 0.020 0.079\n",
            "gf        :  0.057 0.022 0.104 0.098 0.048 0.106 0.016 0.063\n",
            "gh        :  0.130 0.033 0.075 0.092 0.076 0.159 0.047 0.127\n",
            "ghg       :  0.016 0.005 0.018 0.021 0.015 0.033 0.002 0.018\n",
            "hg        :  0.051 0.012 0.071 0.039 0.066 0.060 0.050 0.099\n",
            "hk        :  0.011 0.002 0.094 0.012 0.042 0.019 0.032 0.044\n",
            "jh        :  0.002 0.001 0.029 0.015 0.004 0.004 0.057 0.015\n",
            "jk        :  0.002 0.000 0.027 0.003 0.017 0.002 0.052 0.022\n",
            "kj        :  0.009 0.002 0.096 0.008 0.049 0.004 0.103 0.083\n",
            "kl        :  0.005 0.002 0.013 0.001 0.078 0.005 0.100 0.028\n",
            "lk        :  0.001 0.001 0.007 0.001 0.053 0.008 0.055 0.010\n",
            "lm        :  0.001 0.000 0.005 0.001 0.012 0.002 0.074 0.012\n"
          ]
        },
        {
          "output_type": "stream",
          "name": "stderr",
          "text": [
            "/usr/local/lib/python3.7/dist-packages/sklearn/utils/validation.py:993: DataConversionWarning: A column-vector y was passed when a 1d array was expected. Please change the shape of y to (n_samples, ), for example using ravel().\n",
            "  y = column_or_1d(y, warn=True)\n",
            "/usr/local/lib/python3.7/dist-packages/sklearn/naive_bayes.py:557: UserWarning: alpha too small will result in numeric errors, setting alpha = 1.0e-10\n",
            "  % _ALPHA_MIN\n"
          ]
        }
      ]
    },
    {
      "cell_type": "markdown",
      "source": [
        "### neumes"
      ],
      "metadata": {
        "id": "8KexKes6zyRF"
      }
    },
    {
      "cell_type": "code",
      "source": [
        "X_prepared, y_prepared = prepare_dataset(\"neumes\")\n",
        "print_feature_selections(X_prepared, y_prepared)"
      ],
      "metadata": {
        "colab": {
          "base_uri": "https://localhost:8080/"
        },
        "id": "Oka9jZ57z0Yy",
        "outputId": "c8eac4e9-8b71-4b22-b16e-8559bc279155"
      },
      "execution_count": 252,
      "outputs": [
        {
          "output_type": "stream",
          "name": "stdout",
          "text": [
            "Segment      1     2     3     4     5     6     7     8\n",
            "cd        :  0.049 0.134 0.001 0.018 0.000 0.011 0.001 0.002\n",
            "dc        :  0.075 0.080 0.004 0.034 0.002 0.052 0.000 0.003\n",
            "de        :  0.011 0.027 0.024 0.078 0.001 0.005 0.000 0.001\n",
            "df        :  0.026 0.060 0.002 0.029 0.003 0.033 0.000 0.004\n",
            "ed        :  0.018 0.036 0.029 0.040 0.001 0.003 0.001 0.003\n",
            "ef        :  0.036 0.048 0.027 0.039 0.002 0.011 0.001 0.013\n",
            "fe        :  0.155 0.168 0.039 0.097 0.005 0.057 0.003 0.032\n",
            "fg        :  0.051 0.046 0.018 0.028 0.015 0.055 0.019 0.077\n",
            "gf        :  0.059 0.024 0.102 0.095 0.052 0.106 0.016 0.065\n",
            "gh        :  0.128 0.033 0.079 0.089 0.072 0.150 0.046 0.126\n",
            "ghg       :  0.017 0.010 0.018 0.021 0.015 0.031 0.002 0.018\n",
            "hg        :  0.058 0.015 0.073 0.041 0.068 0.062 0.050 0.100\n",
            "hk        :  0.012 0.002 0.092 0.012 0.042 0.018 0.032 0.045\n",
            "jh        :  0.003 0.001 0.030 0.015 0.004 0.004 0.056 0.015\n",
            "jk        :  0.002 0.000 0.028 0.003 0.016 0.001 0.052 0.022\n",
            "kj        :  0.010 0.002 0.095 0.008 0.049 0.005 0.107 0.092\n",
            "kl        :  0.005 0.002 0.012 0.001 0.083 0.007 0.099 0.029\n",
            "lk        :  0.002 0.001 0.008 0.002 0.056 0.009 0.059 0.013\n",
            "lm        :  0.001 0.000 0.005 0.001 0.013 0.002 0.082 0.013\n"
          ]
        },
        {
          "output_type": "stream",
          "name": "stderr",
          "text": [
            "/usr/local/lib/python3.7/dist-packages/sklearn/utils/validation.py:993: DataConversionWarning: A column-vector y was passed when a 1d array was expected. Please change the shape of y to (n_samples, ), for example using ravel().\n",
            "  y = column_or_1d(y, warn=True)\n",
            "/usr/local/lib/python3.7/dist-packages/sklearn/naive_bayes.py:557: UserWarning: alpha too small will result in numeric errors, setting alpha = 1.0e-10\n",
            "  % _ALPHA_MIN\n"
          ]
        }
      ]
    },
    {
      "cell_type": "markdown",
      "source": [
        "### 2-mer"
      ],
      "metadata": {
        "id": "T6gsW6wXz1_d"
      }
    },
    {
      "cell_type": "code",
      "source": [
        "X_prepared, y_prepared = prepare_dataset(\"2-mer\")\n",
        "print_feature_selections(X_prepared, y_prepared)"
      ],
      "metadata": {
        "colab": {
          "base_uri": "https://localhost:8080/"
        },
        "id": "pONyHFNqz2PZ",
        "outputId": "d419c586-fd32-47b9-a33c-929bb06eb2bd"
      },
      "execution_count": 253,
      "outputs": [
        {
          "output_type": "stream",
          "name": "stdout",
          "text": [
            "Segment      1     2     3     4     5     6     7     8\n",
            "cd        :  0.035 0.085 0.002 0.025 0.000 0.011 0.000 0.002\n",
            "dc        :  0.037 0.071 0.002 0.023 0.001 0.022 0.000 0.002\n",
            "dd        :  0.066 0.104 0.004 0.019 0.001 0.009 0.000 0.003\n",
            "de        :  0.015 0.031 0.012 0.052 0.000 0.005 0.001 0.007\n",
            "df        :  0.039 0.081 0.004 0.024 0.001 0.024 0.000 0.009\n",
            "ed        :  0.053 0.066 0.021 0.061 0.002 0.014 0.001 0.007\n",
            "ef        :  0.031 0.039 0.023 0.045 0.002 0.013 0.001 0.017\n",
            "fd        :  0.020 0.038 0.007 0.020 0.001 0.019 0.001 0.006\n",
            "fe        :  0.066 0.087 0.035 0.072 0.002 0.035 0.001 0.013\n",
            "ff        :  0.038 0.084 0.004 0.032 0.037 0.130 0.001 0.014\n",
            "fg        :  0.089 0.044 0.034 0.055 0.028 0.094 0.011 0.052\n",
            "gf        :  0.084 0.040 0.047 0.069 0.046 0.087 0.014 0.054\n",
            "gg        :  0.030 0.012 0.066 0.049 0.017 0.043 0.053 0.110\n",
            "gh        :  0.070 0.025 0.092 0.070 0.051 0.084 0.032 0.086\n",
            "hg        :  0.081 0.024 0.082 0.076 0.073 0.074 0.047 0.105\n",
            "hh        :  0.065 0.014 0.025 0.038 0.038 0.050 0.018 0.037\n",
            "hk        :  0.010 0.002 0.060 0.013 0.036 0.012 0.034 0.047\n",
            "jh        :  0.007 0.003 0.051 0.016 0.013 0.005 0.038 0.029\n",
            "jk        :  0.002 0.001 0.026 0.006 0.019 0.002 0.044 0.035\n",
            "kh        :  0.008 0.001 0.041 0.009 0.036 0.008 0.033 0.045\n",
            "kj        :  0.005 0.001 0.060 0.008 0.024 0.003 0.063 0.052\n",
            "kk        :  0.003 0.002 0.088 0.003 0.111 0.015 0.053 0.068\n",
            "kl        :  0.003 0.002 0.018 0.002 0.071 0.008 0.064 0.027\n",
            "lk        :  0.003 0.001 0.019 0.004 0.061 0.009 0.074 0.026\n",
            "ll        :  0.001 0.001 0.004 0.001 0.010 0.002 0.093 0.010\n"
          ]
        },
        {
          "output_type": "stream",
          "name": "stderr",
          "text": [
            "/usr/local/lib/python3.7/dist-packages/sklearn/utils/validation.py:993: DataConversionWarning: A column-vector y was passed when a 1d array was expected. Please change the shape of y to (n_samples, ), for example using ravel().\n",
            "  y = column_or_1d(y, warn=True)\n",
            "/usr/local/lib/python3.7/dist-packages/sklearn/naive_bayes.py:557: UserWarning: alpha too small will result in numeric errors, setting alpha = 1.0e-10\n",
            "  % _ALPHA_MIN\n"
          ]
        }
      ]
    },
    {
      "cell_type": "markdown",
      "source": [
        "### 3-mer"
      ],
      "metadata": {
        "id": "6GrrGLHP0LXn"
      }
    },
    {
      "cell_type": "code",
      "source": [
        "X_prepared, y_prepared = prepare_dataset(\"3-mer\")\n",
        "print_feature_selections(X_prepared, y_prepared)"
      ],
      "metadata": {
        "colab": {
          "base_uri": "https://localhost:8080/"
        },
        "id": "8Z_45_vN0Mr8",
        "outputId": "7bf3a593-f6b7-48d1-e4b4-e2b2fe18527d"
      },
      "execution_count": 254,
      "outputs": [
        {
          "output_type": "stream",
          "name": "stdout",
          "text": [
            "Segment      1     2     3     4     5     6     7     8\n",
            "fed       :  0.048 0.050 0.012 0.040 0.002 0.013 0.001 0.007\n",
            "fff       :  0.010 0.035 0.001 0.011 0.006 0.057 0.000 0.002\n",
            "fgf       :  0.032 0.019 0.006 0.019 0.003 0.025 0.000 0.004\n",
            "fgh       :  0.041 0.011 0.011 0.015 0.016 0.045 0.005 0.028\n",
            "gfe       :  0.028 0.019 0.023 0.037 0.002 0.008 0.001 0.007\n",
            "gfg       :  0.033 0.009 0.015 0.016 0.012 0.028 0.008 0.025\n",
            "ggh       :  0.009 0.004 0.026 0.016 0.006 0.016 0.005 0.026\n",
            "ghg       :  0.034 0.011 0.031 0.026 0.023 0.039 0.007 0.037\n",
            "hgf       :  0.038 0.014 0.025 0.028 0.035 0.043 0.009 0.029\n",
            "hgg       :  0.011 0.002 0.020 0.012 0.007 0.012 0.020 0.035\n",
            "hgh       :  0.019 0.007 0.023 0.030 0.025 0.017 0.012 0.025\n",
            "hhg       :  0.029 0.007 0.009 0.015 0.012 0.012 0.006 0.024\n",
            "kjh       :  0.003 0.001 0.037 0.006 0.012 0.002 0.028 0.021\n",
            "kkk       :  0.001 0.001 0.037 0.001 0.034 0.003 0.018 0.024\n"
          ]
        },
        {
          "output_type": "stream",
          "name": "stderr",
          "text": [
            "/usr/local/lib/python3.7/dist-packages/sklearn/utils/validation.py:993: DataConversionWarning: A column-vector y was passed when a 1d array was expected. Please change the shape of y to (n_samples, ), for example using ravel().\n",
            "  y = column_or_1d(y, warn=True)\n",
            "/usr/local/lib/python3.7/dist-packages/sklearn/naive_bayes.py:557: UserWarning: alpha too small will result in numeric errors, setting alpha = 1.0e-10\n",
            "  % _ALPHA_MIN\n"
          ]
        }
      ]
    },
    {
      "cell_type": "markdown",
      "source": [
        "### 4-mer"
      ],
      "metadata": {
        "id": "OeMMtjkc0N5Q"
      }
    },
    {
      "cell_type": "code",
      "source": [
        "X_prepared, y_prepared = prepare_dataset(\"4-mer\")\n",
        "print_feature_selections(X_prepared, y_prepared, 0.04)"
      ],
      "metadata": {
        "colab": {
          "base_uri": "https://localhost:8080/"
        },
        "id": "VDe9sC1o0tKF",
        "outputId": "47114662-f27b-40eb-bfc2-7c340d901391"
      },
      "execution_count": 296,
      "outputs": [
        {
          "output_type": "stream",
          "name": "stdout",
          "text": [
            "Segment      1     2     3     4     5     6     7     8\n",
            "efgf      :  0.013 0.009 0.003 0.013 0.000 0.001 0.000 0.001\n",
            "fedc      :  0.011 0.014 0.001 0.006 0.000 0.007 0.000 0.000\n",
            "fedd      :  0.020 0.015 0.003 0.005 0.000 0.002 0.000 0.002\n",
            "fede      :  0.005 0.008 0.006 0.021 0.000 0.001 0.000 0.001\n",
            "ffed      :  0.007 0.014 0.002 0.012 0.000 0.006 0.000 0.001\n",
            "fffe      :  0.003 0.018 0.000 0.005 0.000 0.018 0.000 0.000\n",
            "fgfe      :  0.015 0.011 0.003 0.011 0.000 0.004 0.000 0.001\n",
            "fghg      :  0.021 0.006 0.008 0.011 0.005 0.022 0.000 0.007\n",
            "fghh      :  0.013 0.002 0.001 0.003 0.003 0.009 0.002 0.013\n",
            "gfed      :  0.018 0.011 0.006 0.016 0.000 0.003 0.000 0.003\n",
            "gfgg      :  0.005 0.001 0.008 0.005 0.002 0.008 0.003 0.009\n",
            "gfgh      :  0.023 0.003 0.005 0.007 0.007 0.009 0.003 0.016\n",
            "gghg      :  0.004 0.002 0.009 0.007 0.002 0.008 0.002 0.013\n",
            "ghgf      :  0.017 0.008 0.013 0.014 0.014 0.025 0.004 0.018\n",
            "hgfe      :  0.008 0.004 0.011 0.018 0.000 0.003 0.000 0.002\n",
            "hgff      :  0.005 0.002 0.001 0.001 0.015 0.014 0.001 0.004\n",
            "hgfg      :  0.022 0.007 0.010 0.009 0.011 0.013 0.006 0.019\n",
            "hghg      :  0.009 0.003 0.007 0.005 0.010 0.006 0.003 0.011\n",
            "hhgf      :  0.016 0.003 0.003 0.006 0.007 0.003 0.001 0.005\n",
            "kjhg      :  0.002 0.001 0.014 0.003 0.006 0.001 0.009 0.011\n",
            "kkkk      :  0.000 0.000 0.014 0.000 0.010 0.001 0.008 0.011\n"
          ]
        },
        {
          "output_type": "stream",
          "name": "stderr",
          "text": [
            "/usr/local/lib/python3.7/dist-packages/sklearn/utils/validation.py:993: DataConversionWarning: A column-vector y was passed when a 1d array was expected. Please change the shape of y to (n_samples, ), for example using ravel().\n",
            "  y = column_or_1d(y, warn=True)\n",
            "/usr/local/lib/python3.7/dist-packages/sklearn/naive_bayes.py:557: UserWarning: alpha too small will result in numeric errors, setting alpha = 1.0e-10\n",
            "  % _ALPHA_MIN\n"
          ]
        }
      ]
    },
    {
      "cell_type": "markdown",
      "source": [
        "### 5-mer"
      ],
      "metadata": {
        "id": "RFsas8zq02uu"
      }
    },
    {
      "cell_type": "code",
      "source": [
        "X_prepared, y_prepared = prepare_dataset(\"5-mer\")\n",
        "print_feature_selections(X_prepared, y_prepared, 0.02)"
      ],
      "metadata": {
        "colab": {
          "base_uri": "https://localhost:8080/"
        },
        "id": "D0jetQ0U03x3",
        "outputId": "8ebad7ab-99b7-45d8-cb3c-69ae7e240604"
      },
      "execution_count": 294,
      "outputs": [
        {
          "output_type": "stream",
          "name": "stdout",
          "text": [
            "Segment      1     2     3     4     5     6     7     8\n",
            "efgfe     :  0.008 0.005 0.002 0.008 0.000 0.000 0.000 0.000\n",
            "fedcd     :  0.008 0.009 0.000 0.004 0.000 0.001 0.000 0.000\n",
            "fgfed     :  0.012 0.010 0.001 0.005 0.000 0.002 0.000 0.001\n",
            "fghgf     :  0.010 0.004 0.006 0.006 0.004 0.018 0.000 0.003\n",
            "fghhg     :  0.004 0.002 0.000 0.002 0.000 0.002 0.002 0.011\n",
            "gfghg     :  0.012 0.001 0.004 0.005 0.003 0.006 0.000 0.005\n",
            "gfghh     :  0.007 0.001 0.001 0.001 0.001 0.001 0.002 0.008\n",
            "gghgf     :  0.002 0.001 0.004 0.003 0.001 0.008 0.001 0.005\n",
            "ghgfe     :  0.005 0.003 0.009 0.010 0.001 0.001 0.000 0.002\n",
            "ghgff     :  0.004 0.001 0.001 0.001 0.009 0.010 0.000 0.003\n",
            "ghgfg     :  0.007 0.004 0.005 0.003 0.003 0.004 0.002 0.010\n",
            "ghkkk     :  0.000 0.000 0.018 0.000 0.001 0.000 0.002 0.003\n",
            "hg        :  0.007 0.000 0.002 0.000 0.001 0.000 0.000 0.010\n",
            "hgfgg     :  0.003 0.000 0.007 0.003 0.002 0.002 0.003 0.006\n",
            "hgfgh     :  0.013 0.001 0.004 0.002 0.006 0.004 0.003 0.012\n",
            "hghgf     :  0.005 0.003 0.003 0.002 0.012 0.002 0.002 0.005\n",
            "hhgfg     :  0.013 0.001 0.002 0.003 0.004 0.002 0.001 0.003\n",
            "kjhgh     :  0.001 0.000 0.007 0.002 0.001 0.001 0.006 0.004\n",
            "llmlk     :  0.000 0.000 0.000 0.000 0.001 0.000 0.018 0.001\n"
          ]
        },
        {
          "output_type": "stream",
          "name": "stderr",
          "text": [
            "/usr/local/lib/python3.7/dist-packages/sklearn/utils/validation.py:993: DataConversionWarning: A column-vector y was passed when a 1d array was expected. Please change the shape of y to (n_samples, ), for example using ravel().\n",
            "  y = column_or_1d(y, warn=True)\n",
            "/usr/local/lib/python3.7/dist-packages/sklearn/naive_bayes.py:557: UserWarning: alpha too small will result in numeric errors, setting alpha = 1.0e-10\n",
            "  % _ALPHA_MIN\n"
          ]
        }
      ]
    },
    {
      "cell_type": "markdown",
      "source": [
        "### 6-mer"
      ],
      "metadata": {
        "id": "DoB5nj5E05UL"
      }
    },
    {
      "cell_type": "code",
      "source": [
        "X_prepared, y_prepared = prepare_dataset(\"6-mer\")\n",
        "print_feature_selections(X_prepared, y_prepared, 0.015)"
      ],
      "metadata": {
        "colab": {
          "base_uri": "https://localhost:8080/"
        },
        "id": "LW-EKcxp06J_",
        "outputId": "7233e55a-2a55-4019-a362-511fdba7cab6"
      },
      "execution_count": 288,
      "outputs": [
        {
          "output_type": "stream",
          "name": "stdout",
          "text": [
            "Segment      1     2     3     4     5     6     7     8\n",
            "efgfed    :  0.008 0.003 0.001 0.004 0.000 0.000 0.000 0.000\n",
            "gfghgf    :  0.005 0.001 0.004 0.003 0.001 0.003 0.000 0.001\n",
            "ghgfgh    :  0.003 0.001 0.001 0.001 0.003 0.002 0.002 0.005\n",
            "hg        :  0.006 0.000 0.002 0.000 0.001 0.000 0.000 0.011\n",
            "hgfghg    :  0.009 0.000 0.002 0.002 0.002 0.002 0.000 0.001\n"
          ]
        },
        {
          "output_type": "stream",
          "name": "stderr",
          "text": [
            "/usr/local/lib/python3.7/dist-packages/sklearn/utils/validation.py:993: DataConversionWarning: A column-vector y was passed when a 1d array was expected. Please change the shape of y to (n_samples, ), for example using ravel().\n",
            "  y = column_or_1d(y, warn=True)\n",
            "/usr/local/lib/python3.7/dist-packages/sklearn/naive_bayes.py:557: UserWarning: alpha too small will result in numeric errors, setting alpha = 1.0e-10\n",
            "  % _ALPHA_MIN\n"
          ]
        }
      ]
    },
    {
      "cell_type": "markdown",
      "source": [
        "### 7-mer"
      ],
      "metadata": {
        "id": "8I8fqG8Q08ob"
      }
    },
    {
      "cell_type": "code",
      "source": [
        "X_prepared, y_prepared = prepare_dataset(\"7-mer\")\n",
        "print_feature_selections(X_prepared, y_prepared, 0.01)"
      ],
      "metadata": {
        "colab": {
          "base_uri": "https://localhost:8080/"
        },
        "id": "PAbD8e8609x6",
        "outputId": "317da301-41a4-4088-da60-8bfd84d82521"
      },
      "execution_count": 285,
      "outputs": [
        {
          "output_type": "stream",
          "name": "stdout",
          "text": [
            "Segment      1     2     3     4     5     6     7     8\n",
            "dd        :  0.003 0.008 0.000 0.000 0.000 0.000 0.000 0.000\n",
            "fghgf     :  0.001 0.000 0.000 0.000 0.000 0.010 0.000 0.000\n",
            "gf        :  0.001 0.000 0.000 0.000 0.001 0.011 0.000 0.000\n",
            "ggllmlk   :  0.000 0.000 0.000 0.000 0.000 0.000 0.010 0.000\n",
            "ghgf      :  0.001 0.000 0.000 0.000 0.000 0.010 0.000 0.000\n",
            "hfghgf    :  0.000 0.000 0.000 0.000 0.000 0.011 0.000 0.000\n",
            "hg        :  0.006 0.000 0.002 0.001 0.001 0.000 0.000 0.011\n",
            "hgf       :  0.001 0.000 0.000 0.000 0.001 0.013 0.000 0.000\n",
            "hhfghgf   :  0.000 0.000 0.000 0.000 0.000 0.010 0.000 0.000\n",
            "hhgfghg   :  0.008 0.000 0.001 0.001 0.000 0.000 0.000 0.000\n",
            "jh        :  0.000 0.000 0.004 0.000 0.000 0.000 0.006 0.000\n",
            "jkhg      :  0.000 0.000 0.000 0.000 0.001 0.000 0.000 0.009\n",
            "khg       :  0.000 0.000 0.002 0.000 0.000 0.000 0.000 0.008\n",
            "kjh       :  0.000 0.000 0.005 0.000 0.000 0.000 0.007 0.000\n"
          ]
        },
        {
          "output_type": "stream",
          "name": "stderr",
          "text": [
            "/usr/local/lib/python3.7/dist-packages/sklearn/utils/validation.py:993: DataConversionWarning: A column-vector y was passed when a 1d array was expected. Please change the shape of y to (n_samples, ), for example using ravel().\n",
            "  y = column_or_1d(y, warn=True)\n",
            "/usr/local/lib/python3.7/dist-packages/sklearn/naive_bayes.py:557: UserWarning: alpha too small will result in numeric errors, setting alpha = 1.0e-10\n",
            "  % _ALPHA_MIN\n"
          ]
        }
      ]
    },
    {
      "cell_type": "markdown",
      "source": [
        "### 8-mer"
      ],
      "metadata": {
        "id": "RH4oI-iA0_xg"
      }
    },
    {
      "cell_type": "code",
      "source": [
        "X_prepared, y_prepared = prepare_dataset(\"8-mer\")\n",
        "print_feature_selections(X_prepared, y_prepared, 0.01)"
      ],
      "metadata": {
        "colab": {
          "base_uri": "https://localhost:8080/"
        },
        "id": "AYnfV3_v1BP3",
        "outputId": "d46eeb6e-07af-44ef-cf30-2ffe9f855d83"
      },
      "execution_count": 284,
      "outputs": [
        {
          "output_type": "stream",
          "name": "stdout",
          "text": [
            "Segment      1     2     3     4     5     6     7     8\n",
            "fghgf     :  0.001 0.000 0.000 0.000 0.000 0.010 0.000 0.000\n",
            "gf        :  0.001 0.000 0.000 0.000 0.001 0.011 0.000 0.000\n",
            "hfghgf    :  0.000 0.000 0.000 0.000 0.000 0.012 0.000 0.000\n",
            "hg        :  0.006 0.000 0.003 0.000 0.000 0.000 0.000 0.011\n",
            "hgf       :  0.001 0.000 0.000 0.000 0.001 0.010 0.000 0.000\n",
            "hhfghgf   :  0.000 0.000 0.000 0.000 0.000 0.014 0.000 0.000\n",
            "jh        :  0.000 0.000 0.004 0.000 0.000 0.000 0.005 0.000\n",
            "khg       :  0.000 0.000 0.002 0.000 0.001 0.000 0.000 0.009\n",
            "kjh       :  0.000 0.000 0.004 0.000 0.000 0.000 0.006 0.000\n"
          ]
        },
        {
          "output_type": "stream",
          "name": "stderr",
          "text": [
            "/usr/local/lib/python3.7/dist-packages/sklearn/utils/validation.py:993: DataConversionWarning: A column-vector y was passed when a 1d array was expected. Please change the shape of y to (n_samples, ), for example using ravel().\n",
            "  y = column_or_1d(y, warn=True)\n",
            "/usr/local/lib/python3.7/dist-packages/sklearn/naive_bayes.py:557: UserWarning: alpha too small will result in numeric errors, setting alpha = 1.0e-10\n",
            "  % _ALPHA_MIN\n"
          ]
        }
      ]
    },
    {
      "cell_type": "markdown",
      "source": [
        "### 9-mer"
      ],
      "metadata": {
        "id": "T6HbDVvp1Di8"
      }
    },
    {
      "cell_type": "code",
      "source": [
        "X_prepared, y_prepared = prepare_dataset(\"9-mer\")\n",
        "print_feature_selections(X_prepared, y_prepared, 0.01)"
      ],
      "metadata": {
        "colab": {
          "base_uri": "https://localhost:8080/"
        },
        "id": "pG2RB9lK1BVt",
        "outputId": "b84b9c56-31dc-4f44-9b1f-24fa38df377b"
      },
      "execution_count": 283,
      "outputs": [
        {
          "output_type": "stream",
          "name": "stderr",
          "text": [
            "/usr/local/lib/python3.7/dist-packages/sklearn/utils/validation.py:993: DataConversionWarning: A column-vector y was passed when a 1d array was expected. Please change the shape of y to (n_samples, ), for example using ravel().\n",
            "  y = column_or_1d(y, warn=True)\n",
            "/usr/local/lib/python3.7/dist-packages/sklearn/naive_bayes.py:557: UserWarning: alpha too small will result in numeric errors, setting alpha = 1.0e-10\n",
            "  % _ALPHA_MIN\n"
          ]
        },
        {
          "output_type": "stream",
          "name": "stdout",
          "text": [
            "Segment      1     2     3     4     5     6     7     8\n",
            "fghgf     :  0.001 0.000 0.000 0.000 0.000 0.009 0.000 0.000\n",
            "gf        :  0.001 0.000 0.000 0.000 0.002 0.009 0.000 0.000\n",
            "ghgf      :  0.001 0.000 0.000 0.000 0.000 0.009 0.000 0.000\n",
            "hfghgf    :  0.000 0.000 0.000 0.000 0.000 0.010 0.000 0.000\n",
            "hg        :  0.006 0.000 0.001 0.000 0.000 0.000 0.000 0.010\n",
            "hgf       :  0.001 0.000 0.000 0.000 0.000 0.015 0.000 0.000\n",
            "hhfghgf   :  0.000 0.000 0.000 0.000 0.000 0.010 0.000 0.000\n",
            "jh        :  0.000 0.000 0.005 0.000 0.000 0.000 0.005 0.000\n",
            "khg       :  0.000 0.000 0.002 0.000 0.001 0.000 0.000 0.009\n",
            "kjh       :  0.000 0.000 0.005 0.000 0.000 0.000 0.006 0.000\n"
          ]
        }
      ]
    },
    {
      "cell_type": "markdown",
      "source": [
        "### 10-mer"
      ],
      "metadata": {
        "id": "I0esdcgf1HPp"
      }
    },
    {
      "cell_type": "code",
      "source": [
        "X_prepared, y_prepared = prepare_dataset(\"10-mer\")\n",
        "print_feature_selections(X_prepared, y_prepared, 0.01)"
      ],
      "metadata": {
        "colab": {
          "base_uri": "https://localhost:8080/"
        },
        "id": "pI6Snwey1ItT",
        "outputId": "8e0f9f71-7549-47db-fe63-d909f0b2a20b"
      },
      "execution_count": 282,
      "outputs": [
        {
          "output_type": "stream",
          "name": "stdout",
          "text": [
            "Segment      1     2     3     4     5     6     7     8\n",
            "gf        :  0.001 0.000 0.000 0.000 0.002 0.013 0.000 0.000\n",
            "ghgf      :  0.001 0.000 0.000 0.000 0.000 0.012 0.000 0.000\n",
            "hg        :  0.007 0.000 0.002 0.000 0.001 0.000 0.000 0.009\n",
            "hgf       :  0.001 0.000 0.000 0.000 0.001 0.010 0.000 0.000\n",
            "hhfghgf   :  0.000 0.000 0.000 0.000 0.000 0.012 0.000 0.000\n",
            "jh        :  0.000 0.000 0.004 0.000 0.000 0.000 0.006 0.000\n",
            "kjh       :  0.000 0.000 0.004 0.000 0.000 0.000 0.007 0.000\n"
          ]
        },
        {
          "output_type": "stream",
          "name": "stderr",
          "text": [
            "/usr/local/lib/python3.7/dist-packages/sklearn/utils/validation.py:993: DataConversionWarning: A column-vector y was passed when a 1d array was expected. Please change the shape of y to (n_samples, ), for example using ravel().\n",
            "  y = column_or_1d(y, warn=True)\n",
            "/usr/local/lib/python3.7/dist-packages/sklearn/naive_bayes.py:557: UserWarning: alpha too small will result in numeric errors, setting alpha = 1.0e-10\n",
            "  % _ALPHA_MIN\n"
          ]
        }
      ]
    },
    {
      "cell_type": "markdown",
      "source": [
        "### 11-mer"
      ],
      "metadata": {
        "id": "eT4qKaHv1LGV"
      }
    },
    {
      "cell_type": "code",
      "source": [
        "X_prepared, y_prepared = prepare_dataset(\"11-mer\")\n",
        "print_feature_selections(X_prepared, y_prepared, 0.01)"
      ],
      "metadata": {
        "colab": {
          "base_uri": "https://localhost:8080/"
        },
        "id": "X0c0sALp1Nqk",
        "outputId": "2c5b3835-81df-452d-9872-6991b1ca90e8"
      },
      "execution_count": 281,
      "outputs": [
        {
          "output_type": "stream",
          "name": "stdout",
          "text": [
            "Segment      1     2     3     4     5     6     7     8\n",
            "dd        :  0.003 0.009 0.000 0.000 0.000 0.000 0.000 0.000\n",
            "fghgf     :  0.001 0.000 0.000 0.000 0.000 0.010 0.000 0.000\n",
            "fhhfghgf  :  0.000 0.000 0.000 0.000 0.000 0.010 0.000 0.000\n",
            "gf        :  0.001 0.000 0.000 0.000 0.001 0.010 0.000 0.000\n",
            "hg        :  0.006 0.000 0.001 0.000 0.001 0.000 0.001 0.011\n",
            "kh        :  0.000 0.000 0.000 0.000 0.012 0.000 0.000 0.000\n",
            "khg       :  0.000 0.000 0.001 0.000 0.000 0.000 0.000 0.009\n",
            "kjh       :  0.000 0.000 0.005 0.000 0.000 0.000 0.005 0.000\n"
          ]
        },
        {
          "output_type": "stream",
          "name": "stderr",
          "text": [
            "/usr/local/lib/python3.7/dist-packages/sklearn/utils/validation.py:993: DataConversionWarning: A column-vector y was passed when a 1d array was expected. Please change the shape of y to (n_samples, ), for example using ravel().\n",
            "  y = column_or_1d(y, warn=True)\n",
            "/usr/local/lib/python3.7/dist-packages/sklearn/naive_bayes.py:557: UserWarning: alpha too small will result in numeric errors, setting alpha = 1.0e-10\n",
            "  % _ALPHA_MIN\n"
          ]
        }
      ]
    },
    {
      "cell_type": "markdown",
      "source": [
        "### 12-mer"
      ],
      "metadata": {
        "id": "zW0u3SHf1gk0"
      }
    },
    {
      "cell_type": "code",
      "source": [
        "X_prepared, y_prepared = prepare_dataset(\"12-mer\")\n",
        "print_feature_selections(X_prepared, y_prepared, 0.01)"
      ],
      "metadata": {
        "colab": {
          "base_uri": "https://localhost:8080/"
        },
        "id": "gXI4XPC41O8x",
        "outputId": "ce6447be-ea3e-4eef-f363-736710d0c392"
      },
      "execution_count": 280,
      "outputs": [
        {
          "output_type": "stream",
          "name": "stdout",
          "text": [
            "Segment      1     2     3     4     5     6     7     8\n",
            "gf        :  0.001 0.000 0.000 0.000 0.002 0.009 0.000 0.000\n",
            "hfghgf    :  0.000 0.000 0.000 0.000 0.000 0.012 0.000 0.000\n",
            "hg        :  0.006 0.000 0.002 0.000 0.000 0.000 0.000 0.010\n",
            "hgf       :  0.001 0.000 0.000 0.000 0.000 0.011 0.000 0.000\n",
            "hhfghgf   :  0.000 0.000 0.000 0.000 0.000 0.013 0.000 0.000\n",
            "jh        :  0.000 0.000 0.006 0.000 0.001 0.000 0.005 0.000\n",
            "khg       :  0.000 0.000 0.002 0.000 0.000 0.000 0.000 0.008\n",
            "kjh       :  0.000 0.000 0.004 0.000 0.000 0.001 0.006 0.000\n"
          ]
        },
        {
          "output_type": "stream",
          "name": "stderr",
          "text": [
            "/usr/local/lib/python3.7/dist-packages/sklearn/utils/validation.py:993: DataConversionWarning: A column-vector y was passed when a 1d array was expected. Please change the shape of y to (n_samples, ), for example using ravel().\n",
            "  y = column_or_1d(y, warn=True)\n",
            "/usr/local/lib/python3.7/dist-packages/sklearn/naive_bayes.py:557: UserWarning: alpha too small will result in numeric errors, setting alpha = 1.0e-10\n",
            "  % _ALPHA_MIN\n"
          ]
        }
      ]
    },
    {
      "cell_type": "markdown",
      "source": [
        "### 13-mer"
      ],
      "metadata": {
        "id": "BSMeon5z1iir"
      }
    },
    {
      "cell_type": "code",
      "source": [
        "X_prepared, y_prepared = prepare_dataset(\"13-mer\")\n",
        "print_feature_selections(X_prepared, y_prepared, 0.01)"
      ],
      "metadata": {
        "colab": {
          "base_uri": "https://localhost:8080/"
        },
        "id": "DixMBiZ_1jf3",
        "outputId": "7af5dd5b-b934-43cb-f3dd-62c8e02e6df7"
      },
      "execution_count": 279,
      "outputs": [
        {
          "output_type": "stream",
          "name": "stdout",
          "text": [
            "Segment      1     2     3     4     5     6     7     8\n",
            "fghgf     :  0.001 0.000 0.000 0.000 0.000 0.017 0.000 0.000\n",
            "fhhfghgf  :  0.000 0.000 0.000 0.000 0.000 0.010 0.000 0.000\n",
            "gf        :  0.001 0.000 0.000 0.000 0.002 0.009 0.000 0.000\n",
            "ghgf      :  0.001 0.000 0.000 0.000 0.001 0.015 0.000 0.000\n",
            "hg        :  0.007 0.000 0.003 0.000 0.001 0.000 0.000 0.009\n",
            "jh        :  0.000 0.000 0.005 0.000 0.000 0.000 0.006 0.000\n",
            "kh        :  0.000 0.000 0.000 0.000 0.010 0.000 0.000 0.000\n",
            "khg       :  0.000 0.000 0.002 0.000 0.001 0.000 0.000 0.009\n",
            "kjh       :  0.000 0.000 0.004 0.000 0.001 0.000 0.005 0.000\n",
            "kkljkh    :  0.000 0.000 0.000 0.000 0.010 0.000 0.000 0.000\n"
          ]
        },
        {
          "output_type": "stream",
          "name": "stderr",
          "text": [
            "/usr/local/lib/python3.7/dist-packages/sklearn/utils/validation.py:993: DataConversionWarning: A column-vector y was passed when a 1d array was expected. Please change the shape of y to (n_samples, ), for example using ravel().\n",
            "  y = column_or_1d(y, warn=True)\n",
            "/usr/local/lib/python3.7/dist-packages/sklearn/naive_bayes.py:557: UserWarning: alpha too small will result in numeric errors, setting alpha = 1.0e-10\n",
            "  % _ALPHA_MIN\n"
          ]
        }
      ]
    },
    {
      "cell_type": "markdown",
      "source": [
        "### 14-mer"
      ],
      "metadata": {
        "id": "QR2Wum-P1lN7"
      }
    },
    {
      "cell_type": "code",
      "source": [
        "X_prepared, y_prepared = prepare_dataset(\"14-mer\")\n",
        "print_feature_selections(X_prepared, y_prepared, 0.01)"
      ],
      "metadata": {
        "colab": {
          "base_uri": "https://localhost:8080/"
        },
        "id": "dYkF15op1muX",
        "outputId": "f8a175de-592f-4427-c790-22f6db11fa5f"
      },
      "execution_count": 278,
      "outputs": [
        {
          "output_type": "stream",
          "name": "stdout",
          "text": [
            "Segment      1     2     3     4     5     6     7     8\n",
            "fghgf     :  0.001 0.000 0.000 0.000 0.000 0.011 0.000 0.000\n",
            "gf        :  0.001 0.000 0.000 0.000 0.001 0.010 0.000 0.000\n",
            "ghgf      :  0.001 0.000 0.000 0.000 0.000 0.012 0.000 0.000\n",
            "hfghgf    :  0.000 0.000 0.000 0.000 0.000 0.013 0.000 0.000\n",
            "hg        :  0.006 0.000 0.002 0.000 0.000 0.000 0.000 0.010\n",
            "hgf       :  0.001 0.000 0.000 0.000 0.001 0.015 0.000 0.000\n",
            "hhfghgf   :  0.000 0.000 0.000 0.000 0.000 0.011 0.000 0.000\n",
            "kkljkh    :  0.000 0.000 0.000 0.000 0.010 0.000 0.000 0.000\n"
          ]
        },
        {
          "output_type": "stream",
          "name": "stderr",
          "text": [
            "/usr/local/lib/python3.7/dist-packages/sklearn/utils/validation.py:993: DataConversionWarning: A column-vector y was passed when a 1d array was expected. Please change the shape of y to (n_samples, ), for example using ravel().\n",
            "  y = column_or_1d(y, warn=True)\n",
            "/usr/local/lib/python3.7/dist-packages/sklearn/naive_bayes.py:557: UserWarning: alpha too small will result in numeric errors, setting alpha = 1.0e-10\n",
            "  % _ALPHA_MIN\n"
          ]
        }
      ]
    },
    {
      "cell_type": "markdown",
      "source": [
        "### 15-mer"
      ],
      "metadata": {
        "id": "X8t9Ulor1qhC"
      }
    },
    {
      "cell_type": "code",
      "source": [
        "X_prepared, y_prepared = prepare_dataset(\"15-mer\")\n",
        "print_feature_selections(X_prepared, y_prepared, 0.01)"
      ],
      "metadata": {
        "colab": {
          "base_uri": "https://localhost:8080/"
        },
        "id": "K0Sltylt1sYH",
        "outputId": "07dd93c9-1056-4979-de52-bfe3d956071f"
      },
      "execution_count": 273,
      "outputs": [
        {
          "output_type": "stream",
          "name": "stdout",
          "text": [
            "Segment      1     2     3     4     5     6     7     8\n",
            "gf        :  0.001 0.000 0.000 0.000 0.003 0.016 0.000 0.000\n",
            "ghgf      :  0.001 0.000 0.000 0.000 0.000 0.011 0.000 0.000\n",
            "hfghgf    :  0.000 0.000 0.000 0.000 0.000 0.011 0.000 0.000\n",
            "hg        :  0.006 0.000 0.002 0.001 0.000 0.000 0.000 0.010\n",
            "hgf       :  0.001 0.000 0.000 0.000 0.000 0.013 0.000 0.000\n",
            "hhfghgf   :  0.000 0.000 0.000 0.000 0.000 0.011 0.000 0.000\n",
            "jh        :  0.000 0.000 0.004 0.000 0.000 0.000 0.005 0.000\n",
            "khg       :  0.000 0.000 0.001 0.000 0.000 0.000 0.000 0.008\n",
            "kjh       :  0.000 0.000 0.004 0.000 0.000 0.000 0.006 0.000\n"
          ]
        },
        {
          "output_type": "stream",
          "name": "stderr",
          "text": [
            "/usr/local/lib/python3.7/dist-packages/sklearn/utils/validation.py:993: DataConversionWarning: A column-vector y was passed when a 1d array was expected. Please change the shape of y to (n_samples, ), for example using ravel().\n",
            "  y = column_or_1d(y, warn=True)\n",
            "/usr/local/lib/python3.7/dist-packages/sklearn/naive_bayes.py:557: UserWarning: alpha too small will result in numeric errors, setting alpha = 1.0e-10\n",
            "  % _ALPHA_MIN\n"
          ]
        }
      ]
    },
    {
      "cell_type": "markdown",
      "source": [
        "### 16-mer"
      ],
      "metadata": {
        "id": "pezHcoQO1tnj"
      }
    },
    {
      "cell_type": "code",
      "source": [
        "X_prepared, y_prepared = prepare_dataset(\"16-mer\")\n",
        "print_feature_selections(X_prepared, y_prepared, 0.01)"
      ],
      "metadata": {
        "colab": {
          "base_uri": "https://localhost:8080/"
        },
        "id": "F-HsUvGa1vLZ",
        "outputId": "69551b87-92ec-4354-ae95-5c4a51b9db36"
      },
      "execution_count": 272,
      "outputs": [
        {
          "output_type": "stream",
          "name": "stdout",
          "text": [
            "Segment      1     2     3     4     5     6     7     8\n",
            "fghgf     :  0.001 0.000 0.000 0.000 0.000 0.010 0.000 0.000\n",
            "gf        :  0.001 0.000 0.000 0.000 0.001 0.015 0.000 0.000\n",
            "hg        :  0.005 0.000 0.004 0.000 0.000 0.000 0.000 0.010\n",
            "hgf       :  0.001 0.000 0.000 0.000 0.001 0.011 0.000 0.000\n",
            "jh        :  0.000 0.000 0.005 0.000 0.001 0.000 0.006 0.000\n",
            "kh        :  0.000 0.000 0.000 0.000 0.010 0.000 0.000 0.000\n",
            "kjh       :  0.000 0.000 0.005 0.000 0.000 0.000 0.005 0.000\n"
          ]
        },
        {
          "output_type": "stream",
          "name": "stderr",
          "text": [
            "/usr/local/lib/python3.7/dist-packages/sklearn/utils/validation.py:993: DataConversionWarning: A column-vector y was passed when a 1d array was expected. Please change the shape of y to (n_samples, ), for example using ravel().\n",
            "  y = column_or_1d(y, warn=True)\n",
            "/usr/local/lib/python3.7/dist-packages/sklearn/naive_bayes.py:557: UserWarning: alpha too small will result in numeric errors, setting alpha = 1.0e-10\n",
            "  % _ALPHA_MIN\n"
          ]
        }
      ]
    },
    {
      "cell_type": "markdown",
      "source": [
        "### poisson-3"
      ],
      "metadata": {
        "id": "pOdSUfsu1xW1"
      }
    },
    {
      "cell_type": "code",
      "source": [
        "X_prepared, y_prepared = prepare_dataset(\"poisson-3\")\n",
        "print_feature_selections(X_prepared, y_prepared)"
      ],
      "metadata": {
        "colab": {
          "base_uri": "https://localhost:8080/"
        },
        "id": "eF3lSApB1y0A",
        "outputId": "3b477400-ba36-492e-92ea-5f132e04c858"
      },
      "execution_count": 268,
      "outputs": [
        {
          "output_type": "stream",
          "name": "stdout",
          "text": [
            "Segment      1     2     3     4     5     6     7     8\n",
            "ff        :  0.011 0.026 0.002 0.011 0.016 0.047 0.000 0.005\n",
            "fg        :  0.027 0.012 0.010 0.017 0.008 0.028 0.003 0.016\n",
            "gf        :  0.027 0.012 0.015 0.021 0.016 0.037 0.005 0.017\n",
            "gg        :  0.010 0.004 0.023 0.015 0.005 0.012 0.020 0.037\n",
            "gh        :  0.023 0.008 0.032 0.023 0.016 0.027 0.010 0.027\n",
            "hg        :  0.029 0.007 0.026 0.024 0.024 0.025 0.016 0.040\n",
            "kk        :  0.001 0.000 0.028 0.001 0.035 0.005 0.016 0.023\n"
          ]
        },
        {
          "output_type": "stream",
          "name": "stderr",
          "text": [
            "/usr/local/lib/python3.7/dist-packages/sklearn/utils/validation.py:993: DataConversionWarning: A column-vector y was passed when a 1d array was expected. Please change the shape of y to (n_samples, ), for example using ravel().\n",
            "  y = column_or_1d(y, warn=True)\n",
            "/usr/local/lib/python3.7/dist-packages/sklearn/naive_bayes.py:557: UserWarning: alpha too small will result in numeric errors, setting alpha = 1.0e-10\n",
            "  % _ALPHA_MIN\n"
          ]
        }
      ]
    },
    {
      "cell_type": "markdown",
      "source": [
        "### poisson-5"
      ],
      "metadata": {
        "id": "iIOHdGpu10vh"
      }
    },
    {
      "cell_type": "code",
      "source": [
        "X_prepared, y_prepared = prepare_dataset(\"poisson-5\")\n",
        "print_feature_selections(X_prepared, y_prepared, 0.04)"
      ],
      "metadata": {
        "colab": {
          "base_uri": "https://localhost:8080/"
        },
        "id": "Y0k_nOsL12co",
        "outputId": "bd8715a8-398b-459c-c30f-27eba2181191"
      },
      "execution_count": 276,
      "outputs": [
        {
          "output_type": "stream",
          "name": "stdout",
          "text": [
            "Segment      1     2     3     4     5     6     7     8\n",
            "gf        :  0.007 0.003 0.003 0.005 0.004 0.018 0.001 0.004\n",
            "gh        :  0.006 0.003 0.009 0.007 0.004 0.006 0.002 0.007\n",
            "hg        :  0.011 0.002 0.007 0.006 0.007 0.006 0.004 0.018\n",
            "hgf       :  0.006 0.002 0.003 0.005 0.005 0.017 0.001 0.004\n"
          ]
        },
        {
          "output_type": "stream",
          "name": "stderr",
          "text": [
            "/usr/local/lib/python3.7/dist-packages/sklearn/utils/validation.py:993: DataConversionWarning: A column-vector y was passed when a 1d array was expected. Please change the shape of y to (n_samples, ), for example using ravel().\n",
            "  y = column_or_1d(y, warn=True)\n",
            "/usr/local/lib/python3.7/dist-packages/sklearn/naive_bayes.py:557: UserWarning: alpha too small will result in numeric errors, setting alpha = 1.0e-10\n",
            "  % _ALPHA_MIN\n"
          ]
        }
      ]
    },
    {
      "cell_type": "markdown",
      "source": [
        "### poisson-7"
      ],
      "metadata": {
        "id": "7Z8UIrtr14rA"
      }
    },
    {
      "cell_type": "code",
      "source": [
        "X_prepared, y_prepared = prepare_dataset(\"poisson-7\")\n",
        "print_feature_selections(X_prepared, y_prepared, 0.01)"
      ],
      "metadata": {
        "colab": {
          "base_uri": "https://localhost:8080/"
        },
        "id": "mZnUYt0W16cG",
        "outputId": "3c246672-4a10-41ee-888d-0c64330681b6"
      },
      "execution_count": 277,
      "outputs": [
        {
          "output_type": "stream",
          "name": "stderr",
          "text": [
            "/usr/local/lib/python3.7/dist-packages/sklearn/utils/validation.py:993: DataConversionWarning: A column-vector y was passed when a 1d array was expected. Please change the shape of y to (n_samples, ), for example using ravel().\n",
            "  y = column_or_1d(y, warn=True)\n",
            "/usr/local/lib/python3.7/dist-packages/sklearn/naive_bayes.py:557: UserWarning: alpha too small will result in numeric errors, setting alpha = 1.0e-10\n",
            "  % _ALPHA_MIN\n"
          ]
        },
        {
          "output_type": "stream",
          "name": "stdout",
          "text": [
            "Segment      1     2     3     4     5     6     7     8\n",
            "dd        :  0.004 0.008 0.000 0.001 0.000 0.000 0.000 0.000\n",
            "fed       :  0.004 0.002 0.001 0.002 0.000 0.001 0.000 0.000\n",
            "ff        :  0.001 0.002 0.000 0.001 0.002 0.006 0.000 0.000\n",
            "fghg      :  0.006 0.001 0.001 0.001 0.000 0.002 0.000 0.001\n",
            "fghgf     :  0.003 0.000 0.001 0.001 0.000 0.010 0.000 0.000\n",
            "gf        :  0.002 0.001 0.001 0.001 0.003 0.014 0.000 0.001\n",
            "gg        :  0.001 0.000 0.002 0.001 0.000 0.000 0.004 0.006\n",
            "gh        :  0.002 0.001 0.003 0.001 0.001 0.002 0.001 0.002\n",
            "ghg       :  0.008 0.001 0.003 0.002 0.001 0.002 0.000 0.002\n",
            "ghgf      :  0.002 0.000 0.001 0.001 0.001 0.010 0.000 0.002\n",
            "hg        :  0.007 0.001 0.004 0.002 0.002 0.002 0.001 0.011\n",
            "hgf       :  0.003 0.001 0.001 0.001 0.003 0.011 0.000 0.001\n",
            "jh        :  0.000 0.000 0.004 0.000 0.000 0.000 0.006 0.001\n",
            "jkhg      :  0.000 0.000 0.000 0.000 0.001 0.000 0.000 0.009\n",
            "khg       :  0.000 0.000 0.002 0.000 0.000 0.000 0.000 0.010\n",
            "kjh       :  0.000 0.000 0.006 0.000 0.001 0.000 0.006 0.001\n"
          ]
        }
      ]
    }
  ]
}